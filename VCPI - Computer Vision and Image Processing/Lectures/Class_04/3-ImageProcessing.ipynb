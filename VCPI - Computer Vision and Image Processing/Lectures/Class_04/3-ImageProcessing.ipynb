{
 "cells": [
  {
   "attachments": {},
   "cell_type": "markdown",
   "metadata": {},
   "source": [
    "# Image processing with tensorflow\n",
    "\n",
    "This notebook will show how the images in a dataset can be processed using both geometric and colour operations.\n",
    "\n",
    "It will also present a new way of loading data."
   ]
  },
  {
   "attachments": {},
   "cell_type": "markdown",
   "metadata": {},
   "source": [
    "### Refs\n",
    "\n",
    "TensorFlow addons: https://www.tensorflow.org/addons\n",
    "\n",
    "command: pip install tensorflow-addons\n",
    "\n",
    "Loading custom datasets: https://www.tensorflow.org/tutorials/load_data/images"
   ]
  },
  {
   "cell_type": "code",
   "execution_count": 3,
   "metadata": {},
   "outputs": [],
   "source": [
    "import tensorflow as tf\n",
    "\n",
    "# this package will be used for the data augmentation operations\n",
    "import tensorflow_addons as tfa\n",
    "\n",
    "import numpy as np\n",
    "\n",
    "import os\n",
    "import pathlib\n",
    "import matplotlib.pyplot as plt"
   ]
  },
  {
   "attachments": {},
   "cell_type": "markdown",
   "metadata": {},
   "source": [
    "### Settings"
   ]
  },
  {
   "cell_type": "code",
   "execution_count": 4,
   "metadata": {},
   "outputs": [],
   "source": [
    "data_dir = 'dogsVScats'\n",
    "\n",
    "IMG_SIZE = 128"
   ]
  },
  {
   "attachments": {},
   "cell_type": "markdown",
   "metadata": {},
   "source": [
    "### Aux function to show images"
   ]
  },
  {
   "cell_type": "code",
   "execution_count": 5,
   "metadata": {},
   "outputs": [],
   "source": [
    "def show_images(image_batch, label_batch, rows, columns):\n",
    "  count = rows* columns  \n",
    "  plt.figure(figsize=(10, 2 * rows))\n",
    "  for n in range(count):\n",
    "      ax = plt.subplot(int(rows), columns, n+1)\n",
    "      plt.imshow((image_batch[n]))\n",
    "      plt.title(classNames[label_batch[n]==1][0])\n",
    "      plt.axis('off')"
   ]
  },
  {
   "cell_type": "code",
   "execution_count": 6,
   "metadata": {},
   "outputs": [
    {
     "name": "stdout",
     "output_type": "stream",
     "text": [
      "Found 16 files belonging to 2 classes.\n"
     ]
    },
    {
     "ename": "AttributeError",
     "evalue": "module 'tensorflow.keras.layers' has no attribute 'Rescaling'",
     "output_type": "error",
     "traceback": [
      "\u001b[1;31m---------------------------------------------------------------------------\u001b[0m",
      "\u001b[1;31mAttributeError\u001b[0m                            Traceback (most recent call last)",
      "Cell \u001b[1;32mIn[6], line 5\u001b[0m\n\u001b[0;32m      1\u001b[0m BATCH_SIZE \u001b[39m=\u001b[39m \u001b[39m8\u001b[39m\n\u001b[0;32m      3\u001b[0m dataset \u001b[39m=\u001b[39m tf\u001b[39m.\u001b[39mkeras\u001b[39m.\u001b[39mpreprocessing\u001b[39m.\u001b[39mimage_dataset_from_directory(data_dir, image_size\u001b[39m=\u001b[39m(IMG_SIZE, IMG_SIZE), batch_size\u001b[39m=\u001b[39mBATCH_SIZE, label_mode\u001b[39m=\u001b[39m\u001b[39m'\u001b[39m\u001b[39mcategorical\u001b[39m\u001b[39m'\u001b[39m, shuffle\u001b[39m=\u001b[39m\u001b[39mTrue\u001b[39;00m)\n\u001b[1;32m----> 5\u001b[0m normalize \u001b[39m=\u001b[39m tf\u001b[39m.\u001b[39;49mkeras\u001b[39m.\u001b[39;49mlayers\u001b[39m.\u001b[39;49mRescaling(\u001b[39m1.0\u001b[39m\u001b[39m/\u001b[39m\u001b[39m255\u001b[39m)\n\u001b[0;32m      7\u001b[0m dataset \u001b[39m=\u001b[39m dataset\u001b[39m.\u001b[39mmap(\u001b[39mlambda\u001b[39;00m x,y: (normalize(x),y))\n\u001b[0;32m      9\u001b[0m classNames \u001b[39m=\u001b[39m np\u001b[39m.\u001b[39marray(os\u001b[39m.\u001b[39mlistdir(data_dir))\n",
      "\u001b[1;31mAttributeError\u001b[0m: module 'tensorflow.keras.layers' has no attribute 'Rescaling'"
     ]
    }
   ],
   "source": [
    "BATCH_SIZE = 8\n",
    "\n",
    "dataset = tf.keras.preprocessing.image_dataset_from_directory(data_dir, image_size=(IMG_SIZE, IMG_SIZE), batch_size=BATCH_SIZE, label_mode='categorical', shuffle=True)\n",
    "\n",
    "normalize = tf.keras.layers.Rescaling(1.0/255)\n",
    "\n",
    "dataset = dataset.map(lambda x,y: (normalize(x),y))\n",
    "\n",
    "classNames = np.array(os.listdir(data_dir))"
   ]
  },
  {
   "cell_type": "code",
   "execution_count": null,
   "metadata": {},
   "outputs": [],
   "source": [
    "image_batch, label_batch = next(iter(dataset))\n",
    "\n",
    "show_images(image_batch, label_batch, 1, 8)"
   ]
  },
  {
   "cell_type": "code",
   "execution_count": 8,
   "metadata": {},
   "outputs": [],
   "source": [
    "def process_image(image, label):\n",
    "    \n",
    "    r = tf.random.uniform(shape=(), minval=0, maxval=0.5) - 0.25\n",
    "    \n",
    "    image = tfa.image.rotate(image, r)\n",
    "    \n",
    "    rx = tf.random.uniform(shape=(), minval=0, maxval=20) - 10\n",
    "    ry = tf.random.uniform(shape=(), minval=0, maxval=20) - 10\n",
    "    \n",
    "    image = tfa.image.translate(image, (rx, ry))\n",
    "    image = tfa.image.random_hsv_in_yiq(image, 0.4, 0.4, 1.4, 0.4, 1.4)\n",
    "    \n",
    "    return image, label"
   ]
  },
  {
   "cell_type": "code",
   "execution_count": null,
   "metadata": {},
   "outputs": [],
   "source": [
    "datasetA = dataset.map(process_image)\n",
    "\n",
    "image_batch, label_batch = next(iter(dataset))\n",
    "show_images(image_batch, label_batch, 1, 8)\n",
    "\n",
    "image_batch, label_batch = next(iter(datasetA))\n",
    "show_images(image_batch, label_batch, 1, 8)"
   ]
  },
  {
   "cell_type": "code",
   "execution_count": null,
   "metadata": {},
   "outputs": [],
   "source": [
    "dataset = tf.keras.preprocessing.image_dataset_from_directory(data_dir, image_size=(IMG_SIZE, IMG_SIZE), batch_size=None, label_mode='categorical', shuffle=True)\n",
    "\n",
    "normalize = tf.keras.layers.Rescaling(1.0/255)\n",
    "\n",
    "datasetB = dataset.map(lambda x,y: (normalize(x), y))\n",
    "\n",
    "datasetB = datasetB.map(process_image)\n",
    "\n",
    "datasetB = datasetB.batch(batch_size=BATCH_SIZE)"
   ]
  },
  {
   "cell_type": "code",
   "execution_count": null,
   "metadata": {},
   "outputs": [],
   "source": [
    "image_batch, label_batch = next(iter(datasetB))\n",
    "show_images(image_batch, label_batch, 1, 8)\n",
    "\n",
    "image_batch, label_batch = next(iter(datasetB))\n",
    "show_images(image_batch, label_batch, 1, 8)"
   ]
  },
  {
   "cell_type": "code",
   "execution_count": null,
   "metadata": {},
   "outputs": [],
   "source": [
    "def process_image_trans(image, label):\n",
    "    \n",
    "    rx = tf.random.uniform(shape=(), minval=0, maxval=20) - 10\n",
    "    ry = tf.random.uniform(shape=(), minval=0, maxval=20) - 10\n",
    "    \n",
    "    "
   ]
  }
 ],
 "metadata": {
  "kernelspec": {
   "display_name": "Python 3",
   "language": "python",
   "name": "python3"
  },
  "language_info": {
   "codemirror_mode": {
    "name": "ipython",
    "version": 3
   },
   "file_extension": ".py",
   "mimetype": "text/x-python",
   "name": "python",
   "nbconvert_exporter": "python",
   "pygments_lexer": "ipython3",
   "version": "3.8.16"
  }
 },
 "nbformat": 4,
 "nbformat_minor": 4
}

{
 "cells": [
  {
   "attachments": {},
   "cell_type": "markdown",
   "metadata": {},
   "source": [
    "# Fully Connected vs. Convolutional Neural Networks"
   ]
  },
  {
   "attachments": {},
   "cell_type": "markdown",
   "metadata": {},
   "source": [
    "## Refs \n",
    "\n",
    "[1] https://www.tensorflow.org/install\n",
    "\n",
    "[2] https://www.tensorflow.org/tutorials/keras/classification\n",
    "    "
   ]
  },
  {
   "cell_type": "code",
   "execution_count": 1,
   "metadata": {},
   "outputs": [],
   "source": [
    "import tensorflow as tf\n",
    "from tensorflow.keras.callbacks import ModelCheckpoint, EarlyStopping,TensorBoard\n",
    "import matplotlib.pyplot as plt\n",
    "import numpy as np"
   ]
  },
  {
   "attachments": {},
   "cell_type": "markdown",
   "metadata": {},
   "source": [
    "## Sequential Neural Network"
   ]
  },
  {
   "cell_type": "code",
   "execution_count": 2,
   "metadata": {},
   "outputs": [],
   "source": [
    "def show_history(history):\n",
    "    print(history.history.keys())\n",
    "\n",
    "    # summarize history for accuracy\n",
    "    plt.plot(history.history['accuracy'])\n",
    "    plt.plot(history.history['val_accuracy'])\n",
    "    plt.title('model accuracy')\n",
    "    plt.ylabel('accuracy')\n",
    "    plt.xlabel('epoch')\n",
    "    plt.legend(['train', 'val'], loc='upper left')\n",
    "    plt.show()\n",
    "    # summarize history for loss\n",
    "    plt.plot(history.history['loss'])\n",
    "    plt.plot(history.history['val_loss'])\n",
    "    plt.title('model loss')\n",
    "    plt.ylabel('loss')\n",
    "    plt.xlabel('epoch')\n",
    "    plt.legend(['train', 'val'], loc='upper left')\n",
    "    plt.show()\n",
    "\n",
    "\n",
    "def show_images(rows, cols, data, labels):\n",
    "\n",
    "    width= 3 * rows\n",
    "    height= 3 * cols\n",
    "\n",
    "    f, axes= plt.subplots(rows,cols,figsize=(height,width))\n",
    "    fig=plt.figure()\n",
    "\n",
    "    for a in range(rows*cols):\n",
    "        b = data[a]\n",
    "        subplot_title=(\"class \"+str(labels[a]))\n",
    "        axes.ravel()[a].set_title(subplot_title)  \n",
    "        axes.ravel()[a].imshow(data[a, :, :, 0], cmap='gray')\n",
    "    fig.tight_layout()    \n",
    "    plt.show()\n"
   ]
  },
  {
   "cell_type": "code",
   "execution_count": 3,
   "metadata": {},
   "outputs": [],
   "source": [
    "mnist = tf.keras.datasets.mnist"
   ]
  },
  {
   "cell_type": "code",
   "execution_count": 4,
   "metadata": {},
   "outputs": [
    {
     "name": "stdout",
     "output_type": "stream",
     "text": [
      "(60000, 28, 28) (60000,)\n"
     ]
    }
   ],
   "source": [
    "(x_train, y_train), (x_test, y_test) = mnist.load_data()\n",
    "x_train, x_test = x_train/255.0, x_test/255.0\n",
    "\n",
    "print(x_train.shape, y_train.shape)"
   ]
  },
  {
   "cell_type": "code",
   "execution_count": 5,
   "metadata": {},
   "outputs": [
    {
     "name": "stdout",
     "output_type": "stream",
     "text": [
      "(60000, 28, 28, 1) (60000, 28, 28, 1)\n"
     ]
    }
   ],
   "source": [
    "x_train = x_train.reshape(x_train.shape[0], x_train.shape[1], x_train.shape[2], 1)\n",
    "\n",
    "x_test = x_test.reshape(x_test.shape[0], x_test.shape[1], x_test.shape[2], 1)\n",
    "\n",
    "print(x_train.shape, x_train.shape)"
   ]
  },
  {
   "cell_type": "code",
   "execution_count": 6,
   "metadata": {},
   "outputs": [
    {
     "data": {
      "image/png": "[encoded data removed]",
      "text/plain": [
       "<Figure size 1200x600 with 8 Axes>"
      ]
     },
     "metadata": {},
     "output_type": "display_data"
    },
    {
     "data": {
      "text/plain": [
       "<Figure size 640x480 with 0 Axes>"
      ]
     },
     "metadata": {},
     "output_type": "display_data"
    }
   ],
   "source": [
    "show_images(2, 4, x_train, y_train)"
   ]
  },
  {
   "cell_type": "code",
   "execution_count": 7,
   "metadata": {},
   "outputs": [],
   "source": [
    "model = tf.keras.models.Sequential([\n",
    "    tf.keras.layers.Input(shape=(28,28,1)),\n",
    "    tf.keras.layers.Flatten(),\n",
    "    tf.keras.layers.Dense(256, activation='relu'),\n",
    "    tf.keras.layers.Dense(256, activation='relu'),\n",
    "    tf.keras.layers.Dense(10, activation='softmax')\n",
    "])"
   ]
  },
  {
   "cell_type": "code",
   "execution_count": 8,
   "metadata": {},
   "outputs": [],
   "source": [
    "model.compile(optimizer='adam', loss='sparse_categorical_crossentropy', metrics=['accuracy'])"
   ]
  },
  {
   "cell_type": "code",
   "execution_count": 9,
   "metadata": {},
   "outputs": [
    {
     "name": "stdout",
     "output_type": "stream",
     "text": [
      "313/313 - 0s - loss: 2.3334 - accuracy: 0.1036\n"
     ]
    },
    {
     "data": {
      "text/plain": [
       "[2.3334174156188965, 0.10360000282526016]"
      ]
     },
     "execution_count": 9,
     "metadata": {},
     "output_type": "execute_result"
    }
   ],
   "source": [
    "model.evaluate(x_test, y_test, verbose=2)"
   ]
  },
  {
   "cell_type": "code",
   "execution_count": 10,
   "metadata": {},
   "outputs": [
    {
     "name": "stdout",
     "output_type": "stream",
     "text": [
      "Epoch 1/28\n",
      "1500/1500 [==============================] - 3s 2ms/step - loss: 0.2233 - accuracy: 0.9346 - val_loss: 0.1445 - val_accuracy: 0.9576\n",
      "Epoch 2/28\n",
      "1500/1500 [==============================] - 2s 1ms/step - loss: 0.0912 - accuracy: 0.9726 - val_loss: 0.1146 - val_accuracy: 0.9657\n",
      "Epoch 3/28\n",
      "1500/1500 [==============================] - 3s 2ms/step - loss: 0.0629 - accuracy: 0.9803 - val_loss: 0.1106 - val_accuracy: 0.9689\n",
      "Epoch 4/28\n",
      "1500/1500 [==============================] - 3s 2ms/step - loss: 0.0466 - accuracy: 0.9850 - val_loss: 0.0910 - val_accuracy: 0.9745\n",
      "Epoch 5/28\n",
      "1500/1500 [==============================] - 3s 2ms/step - loss: 0.0383 - accuracy: 0.9873 - val_loss: 0.0947 - val_accuracy: 0.9761\n",
      "Epoch 6/28\n",
      "1500/1500 [==============================] - 3s 2ms/step - loss: 0.0301 - accuracy: 0.9902 - val_loss: 0.0967 - val_accuracy: 0.9749\n",
      "Epoch 7/28\n",
      "1500/1500 [==============================] - 3s 2ms/step - loss: 0.0254 - accuracy: 0.9916 - val_loss: 0.1330 - val_accuracy: 0.9699\n",
      "Epoch 8/28\n",
      "1500/1500 [==============================] - 3s 2ms/step - loss: 0.0203 - accuracy: 0.9934 - val_loss: 0.1153 - val_accuracy: 0.9768\n",
      "Epoch 9/28\n",
      "1500/1500 [==============================] - 3s 2ms/step - loss: 0.0205 - accuracy: 0.9935 - val_loss: 0.1014 - val_accuracy: 0.9768\n",
      "Epoch 10/28\n",
      "1500/1500 [==============================] - 3s 2ms/step - loss: 0.0187 - accuracy: 0.9937 - val_loss: 0.1098 - val_accuracy: 0.9768\n",
      "Epoch 11/28\n",
      "1500/1500 [==============================] - 3s 2ms/step - loss: 0.0165 - accuracy: 0.9948 - val_loss: 0.1281 - val_accuracy: 0.9762\n",
      "Epoch 12/28\n",
      "1500/1500 [==============================] - 3s 2ms/step - loss: 0.0163 - accuracy: 0.9945 - val_loss: 0.1231 - val_accuracy: 0.9782\n",
      "Epoch 13/28\n",
      "1500/1500 [==============================] - 3s 2ms/step - loss: 0.0138 - accuracy: 0.9953 - val_loss: 0.1252 - val_accuracy: 0.9780\n",
      "Epoch 14/28\n",
      "1500/1500 [==============================] - 3s 2ms/step - loss: 0.0104 - accuracy: 0.9963 - val_loss: 0.1262 - val_accuracy: 0.9792\n",
      "Epoch 15/28\n",
      "1500/1500 [==============================] - 3s 2ms/step - loss: 0.0149 - accuracy: 0.9955 - val_loss: 0.1341 - val_accuracy: 0.9768\n",
      "Epoch 16/28\n",
      "1500/1500 [==============================] - 3s 2ms/step - loss: 0.0130 - accuracy: 0.9962 - val_loss: 0.1349 - val_accuracy: 0.9778\n",
      "Epoch 17/28\n",
      "1500/1500 [==============================] - 3s 2ms/step - loss: 0.0108 - accuracy: 0.9965 - val_loss: 0.1427 - val_accuracy: 0.9776\n",
      "Epoch 18/28\n",
      "1500/1500 [==============================] - 3s 2ms/step - loss: 0.0126 - accuracy: 0.9963 - val_loss: 0.1400 - val_accuracy: 0.9783\n",
      "Epoch 19/28\n",
      "1500/1500 [==============================] - 3s 2ms/step - loss: 0.0112 - accuracy: 0.9968 - val_loss: 0.1540 - val_accuracy: 0.9782\n",
      "Epoch 20/28\n",
      "1500/1500 [==============================] - 3s 2ms/step - loss: 0.0099 - accuracy: 0.9969 - val_loss: 0.1460 - val_accuracy: 0.9775\n",
      "Epoch 21/28\n",
      "1500/1500 [==============================] - 3s 2ms/step - loss: 0.0090 - accuracy: 0.9972 - val_loss: 0.1584 - val_accuracy: 0.9788\n",
      "Epoch 22/28\n",
      "1500/1500 [==============================] - 3s 2ms/step - loss: 0.0092 - accuracy: 0.9973 - val_loss: 0.1470 - val_accuracy: 0.9789\n",
      "Epoch 23/28\n",
      "1500/1500 [==============================] - 3s 2ms/step - loss: 0.0122 - accuracy: 0.9966 - val_loss: 0.1689 - val_accuracy: 0.9756\n",
      "Epoch 24/28\n",
      "1500/1500 [==============================] - 3s 2ms/step - loss: 0.0091 - accuracy: 0.9973 - val_loss: 0.1521 - val_accuracy: 0.9791\n",
      "Epoch 25/28\n",
      "1500/1500 [==============================] - 3s 2ms/step - loss: 0.0125 - accuracy: 0.9967 - val_loss: 0.1597 - val_accuracy: 0.9790\n",
      "Epoch 26/28\n",
      "1500/1500 [==============================] - 3s 2ms/step - loss: 0.0081 - accuracy: 0.9979 - val_loss: 0.1546 - val_accuracy: 0.9803\n",
      "Epoch 27/28\n",
      "1500/1500 [==============================] - 3s 2ms/step - loss: 0.0122 - accuracy: 0.9972 - val_loss: 0.1715 - val_accuracy: 0.9773\n",
      "Epoch 28/28\n",
      "1500/1500 [==============================] - 3s 2ms/step - loss: 0.0096 - accuracy: 0.9973 - val_loss: 0.1959 - val_accuracy: 0.9762\n"
     ]
    }
   ],
   "source": [
    "history = model.fit(x_train, y_train, batch_size=32, epochs=28, validation_split=0.2)"
   ]
  },
  {
   "cell_type": "code",
   "execution_count": 11,
   "metadata": {},
   "outputs": [
    {
     "name": "stdout",
     "output_type": "stream",
     "text": [
      "313/313 - 0s - loss: 0.1706 - accuracy: 0.9760\n"
     ]
    },
    {
     "data": {
      "text/plain": [
       "[0.1706078052520752, 0.9760000109672546]"
      ]
     },
     "execution_count": 11,
     "metadata": {},
     "output_type": "execute_result"
    }
   ],
   "source": [
    "model.evaluate(x_test, y_test, verbose=2)"
   ]
  },
  {
   "cell_type": "code",
   "execution_count": 12,
   "metadata": {},
   "outputs": [
    {
     "name": "stdout",
     "output_type": "stream",
     "text": [
      "dict_keys(['loss', 'accuracy', 'val_loss', 'val_accuracy'])\n"
     ]
    },
    {
     "data": {
      "image/png": "[encoded data removed]",
      "text/plain": [
       "<Figure size 640x480 with 1 Axes>"
      ]
     },
     "metadata": {},
     "output_type": "display_data"
    },
    {
     "data": {
      "image/png": "[encoded data removed]",
      "text/plain": [
       "<Figure size 640x480 with 1 Axes>"
      ]
     },
     "metadata": {},
     "output_type": "display_data"
    }
   ],
   "source": [
    "show_history(history)"
   ]
  },
  {
   "cell_type": "code",
   "execution_count": 13,
   "metadata": {},
   "outputs": [
    {
     "name": "stdout",
     "output_type": "stream",
     "text": [
      "Best epoch score -> 25 epoch\n"
     ]
    }
   ],
   "source": [
    "best_epoch = np.argmax(history.history['val_accuracy'])\n",
    "\n",
    "print(\"Best epoch score ->\", best_epoch, \"epoch\")"
   ]
  },
  {
   "cell_type": "code",
   "execution_count": 14,
   "metadata": {},
   "outputs": [],
   "source": [
    "file_path = 'Best_Model_Sequential'\n",
    "\n",
    "check_pointer_Seq = ModelCheckpoint(filepath=file_path, monitor='val_accuracy', verbose=1, save_weights_only=True, save_best_only=True)\n",
    "early_stopper_Seq = EarlyStopping(monitor='val_accuracy', min_delta=0.00001, patience=8, verbose=1)\n",
    "tbCallback_Seq    = TensorBoard(log_dir='logSeq', histogram_freq=0, write_graph=True, write_images=True)"
   ]
  },
  {
   "cell_type": "code",
   "execution_count": 15,
   "metadata": {},
   "outputs": [],
   "source": [
    "model2 = tf.keras.models.Sequential([\n",
    "    tf.keras.layers.Input(shape=(28,28,1)),\n",
    "    tf.keras.layers.Flatten(),\n",
    "    tf.keras.layers.Dense(256, activation='relu'),\n",
    "    tf.keras.layers.Dense(256, activation='relu'),\n",
    "    tf.keras.layers.Dense(10, activation='softmax')\n",
    "])\n",
    "\n",
    "model2.compile(optimizer='adam', loss='sparse_categorical_crossentropy', metrics=['accuracy'])"
   ]
  },
  {
   "cell_type": "code",
   "execution_count": 16,
   "metadata": {},
   "outputs": [
    {
     "name": "stdout",
     "output_type": "stream",
     "text": [
      "Epoch 1/100\n",
      "   1/1500 [..............................] - ETA: 0s - loss: 2.2836 - accuracy: 0.0938WARNING:tensorflow:From c:\\Users\\Utilizador\\anaconda3\\envs\\tf-gpu-cuda8\\lib\\site-packages\\tensorflow\\python\\ops\\summary_ops_v2.py:1277: stop (from tensorflow.python.eager.profiler) is deprecated and will be removed after 2020-07-01.\n",
      "Instructions for updating:\n",
      "use `tf.profiler.experimental.stop` instead.\n",
      "WARNING:tensorflow:Callbacks method `on_train_batch_end` is slow compared to the batch time (batch time: 0.0020s vs `on_train_batch_end` time: 0.0260s). Check your callbacks.\n",
      "1476/1500 [============================>.] - ETA: 0s - loss: 0.2233 - accuracy: 0.9323\n",
      "Epoch 00001: val_accuracy improved from -inf to 0.96667, saving model to Best_Model_Sequential\n",
      "1500/1500 [==============================] - 3s 2ms/step - loss: 0.2212 - accuracy: 0.9329 - val_loss: 0.1114 - val_accuracy: 0.9667\n",
      "Epoch 2/100\n",
      "1495/1500 [============================>.] - ETA: 0s - loss: 0.0932 - accuracy: 0.9707\n",
      "Epoch 00002: val_accuracy improved from 0.96667 to 0.96900, saving model to Best_Model_Sequential\n",
      "1500/1500 [==============================] - 3s 2ms/step - loss: 0.0930 - accuracy: 0.9707 - val_loss: 0.1024 - val_accuracy: 0.9690\n",
      "Epoch 3/100\n",
      "1485/1500 [============================>.] - ETA: 0s - loss: 0.0619 - accuracy: 0.9800\n",
      "Epoch 00003: val_accuracy improved from 0.96900 to 0.97500, saving model to Best_Model_Sequential\n",
      "1500/1500 [==============================] - 3s 2ms/step - loss: 0.0619 - accuracy: 0.9800 - val_loss: 0.0818 - val_accuracy: 0.9750\n",
      "Epoch 4/100\n",
      "1500/1500 [==============================] - ETA: 0s - loss: 0.0459 - accuracy: 0.9852\n",
      "Epoch 00004: val_accuracy did not improve from 0.97500\n",
      "1500/1500 [==============================] - 3s 2ms/step - loss: 0.0459 - accuracy: 0.9852 - val_loss: 0.1043 - val_accuracy: 0.9697\n",
      "Epoch 5/100\n",
      "1469/1500 [============================>.] - ETA: 0s - loss: 0.0337 - accuracy: 0.9887\n",
      "Epoch 00005: val_accuracy did not improve from 0.97500\n",
      "1500/1500 [==============================] - 3s 2ms/step - loss: 0.0342 - accuracy: 0.9885 - val_loss: 0.1105 - val_accuracy: 0.9709\n",
      "Epoch 6/100\n",
      "1472/1500 [============================>.] - ETA: 0s - loss: 0.0298 - accuracy: 0.9900\n",
      "Epoch 00006: val_accuracy did not improve from 0.97500\n",
      "1500/1500 [==============================] - 3s 2ms/step - loss: 0.0302 - accuracy: 0.9899 - val_loss: 0.1084 - val_accuracy: 0.9734\n",
      "Epoch 7/100\n",
      "1497/1500 [============================>.] - ETA: 0s - loss: 0.0253 - accuracy: 0.9913\n",
      "Epoch 00007: val_accuracy improved from 0.97500 to 0.97700, saving model to Best_Model_Sequential\n",
      "1500/1500 [==============================] - 3s 2ms/step - loss: 0.0252 - accuracy: 0.9913 - val_loss: 0.0964 - val_accuracy: 0.9770\n",
      "Epoch 8/100\n",
      "1468/1500 [============================>.] - ETA: 0s - loss: 0.0201 - accuracy: 0.9933\n",
      "Epoch 00008: val_accuracy did not improve from 0.97700\n",
      "1500/1500 [==============================] - 3s 2ms/step - loss: 0.0202 - accuracy: 0.9933 - val_loss: 0.1135 - val_accuracy: 0.9751\n",
      "Epoch 9/100\n",
      "1469/1500 [============================>.] - ETA: 0s - loss: 0.0215 - accuracy: 0.9932\n",
      "Epoch 00009: val_accuracy improved from 0.97700 to 0.97800, saving model to Best_Model_Sequential\n",
      "1500/1500 [==============================] - 3s 2ms/step - loss: 0.0213 - accuracy: 0.9933 - val_loss: 0.1029 - val_accuracy: 0.9780\n",
      "Epoch 10/100\n",
      "1486/1500 [============================>.] - ETA: 0s - loss: 0.0165 - accuracy: 0.9949\n",
      "Epoch 00010: val_accuracy did not improve from 0.97800\n",
      "1500/1500 [==============================] - 3s 2ms/step - loss: 0.0165 - accuracy: 0.9949 - val_loss: 0.1075 - val_accuracy: 0.9777\n",
      "Epoch 11/100\n",
      "1488/1500 [============================>.] - ETA: 0s - loss: 0.0155 - accuracy: 0.9948\n",
      "Epoch 00011: val_accuracy did not improve from 0.97800\n",
      "1500/1500 [==============================] - 3s 2ms/step - loss: 0.0154 - accuracy: 0.9948 - val_loss: 0.1137 - val_accuracy: 0.9780\n",
      "Epoch 12/100\n",
      "1479/1500 [============================>.] - ETA: 0s - loss: 0.0170 - accuracy: 0.9946\n",
      "Epoch 00012: val_accuracy did not improve from 0.97800\n",
      "1500/1500 [==============================] - 3s 2ms/step - loss: 0.0174 - accuracy: 0.9945 - val_loss: 0.1288 - val_accuracy: 0.9762\n",
      "Epoch 13/100\n",
      "1484/1500 [============================>.] - ETA: 0s - loss: 0.0126 - accuracy: 0.9957\n",
      "Epoch 00013: val_accuracy did not improve from 0.97800\n",
      "1500/1500 [==============================] - 3s 2ms/step - loss: 0.0126 - accuracy: 0.9957 - val_loss: 0.1376 - val_accuracy: 0.9745\n",
      "Epoch 14/100\n",
      "1498/1500 [============================>.] - ETA: 0s - loss: 0.0128 - accuracy: 0.9964\n",
      "Epoch 00014: val_accuracy did not improve from 0.97800\n",
      "1500/1500 [==============================] - 3s 2ms/step - loss: 0.0127 - accuracy: 0.9964 - val_loss: 0.1516 - val_accuracy: 0.9750\n",
      "Epoch 15/100\n",
      "1493/1500 [============================>.] - ETA: 0s - loss: 0.0139 - accuracy: 0.9960\n",
      "Epoch 00015: val_accuracy did not improve from 0.97800\n",
      "1500/1500 [==============================] - 3s 2ms/step - loss: 0.0139 - accuracy: 0.9960 - val_loss: 0.1273 - val_accuracy: 0.9764\n",
      "Epoch 16/100\n",
      "1484/1500 [============================>.] - ETA: 0s - loss: 0.0120 - accuracy: 0.9964\n",
      "Epoch 00016: val_accuracy did not improve from 0.97800\n",
      "1500/1500 [==============================] - 3s 2ms/step - loss: 0.0122 - accuracy: 0.9964 - val_loss: 0.1285 - val_accuracy: 0.9753\n",
      "Epoch 17/100\n",
      "1495/1500 [============================>.] - ETA: 0s - loss: 0.0100 - accuracy: 0.9967\n",
      "Epoch 00017: val_accuracy improved from 0.97800 to 0.97925, saving model to Best_Model_Sequential\n",
      "1500/1500 [==============================] - 3s 2ms/step - loss: 0.0100 - accuracy: 0.9967 - val_loss: 0.1146 - val_accuracy: 0.9793\n",
      "Epoch 18/100\n",
      "1472/1500 [============================>.] - ETA: 0s - loss: 0.0119 - accuracy: 0.9966\n",
      "Epoch 00018: val_accuracy improved from 0.97925 to 0.97958, saving model to Best_Model_Sequential\n",
      "1500/1500 [==============================] - 3s 2ms/step - loss: 0.0118 - accuracy: 0.9966 - val_loss: 0.1211 - val_accuracy: 0.9796\n",
      "Epoch 19/100\n",
      "1475/1500 [============================>.] - ETA: 0s - loss: 0.0121 - accuracy: 0.9965\n",
      "Epoch 00019: val_accuracy did not improve from 0.97958\n",
      "1500/1500 [==============================] - 3s 2ms/step - loss: 0.0121 - accuracy: 0.9966 - val_loss: 0.1454 - val_accuracy: 0.9774\n",
      "Epoch 20/100\n",
      "1480/1500 [============================>.] - ETA: 0s - loss: 0.0106 - accuracy: 0.9969\n",
      "Epoch 00020: val_accuracy did not improve from 0.97958\n",
      "1500/1500 [==============================] - 3s 2ms/step - loss: 0.0105 - accuracy: 0.9969 - val_loss: 0.1497 - val_accuracy: 0.9773\n",
      "Epoch 21/100\n",
      "1475/1500 [============================>.] - ETA: 0s - loss: 0.0088 - accuracy: 0.9974\n",
      "Epoch 00021: val_accuracy did not improve from 0.97958\n",
      "1500/1500 [==============================] - 3s 2ms/step - loss: 0.0088 - accuracy: 0.9973 - val_loss: 0.1743 - val_accuracy: 0.9776\n",
      "Epoch 22/100\n",
      "1490/1500 [============================>.] - ETA: 0s - loss: 0.0092 - accuracy: 0.9972\n",
      "Epoch 00022: val_accuracy did not improve from 0.97958\n",
      "1500/1500 [==============================] - 3s 2ms/step - loss: 0.0091 - accuracy: 0.9972 - val_loss: 0.1742 - val_accuracy: 0.9757\n",
      "Epoch 23/100\n",
      "1486/1500 [============================>.] - ETA: 0s - loss: 0.0093 - accuracy: 0.9972\n",
      "Epoch 00023: val_accuracy did not improve from 0.97958\n",
      "1500/1500 [==============================] - 3s 2ms/step - loss: 0.0093 - accuracy: 0.9972 - val_loss: 0.1621 - val_accuracy: 0.9777\n",
      "Epoch 24/100\n",
      "1476/1500 [============================>.] - ETA: 0s - loss: 0.0080 - accuracy: 0.9975\n",
      "Epoch 00024: val_accuracy did not improve from 0.97958\n",
      "1500/1500 [==============================] - 3s 2ms/step - loss: 0.0082 - accuracy: 0.9974 - val_loss: 0.1631 - val_accuracy: 0.9794\n",
      "Epoch 25/100\n",
      "1485/1500 [============================>.] - ETA: 0s - loss: 0.0071 - accuracy: 0.9982\n",
      "Epoch 00025: val_accuracy did not improve from 0.97958\n",
      "1500/1500 [==============================] - 3s 2ms/step - loss: 0.0072 - accuracy: 0.9982 - val_loss: 0.1671 - val_accuracy: 0.9788\n",
      "Epoch 26/100\n",
      "1473/1500 [============================>.] - ETA: 0s - loss: 0.0123 - accuracy: 0.9966\n",
      "Epoch 00026: val_accuracy did not improve from 0.97958\n",
      "1500/1500 [==============================] - 3s 2ms/step - loss: 0.0124 - accuracy: 0.9966 - val_loss: 0.1695 - val_accuracy: 0.9777\n",
      "Epoch 00026: early stopping\n"
     ]
    }
   ],
   "source": [
    "history = model2.fit(x_train, y_train, batch_size=32, epochs=100, validation_split=0.2, callbacks=[check_pointer_Seq, early_stopper_Seq, tbCallback_Seq])"
   ]
  },
  {
   "cell_type": "code",
   "execution_count": 17,
   "metadata": {},
   "outputs": [
    {
     "name": "stdout",
     "output_type": "stream",
     "text": [
      "313/313 - 0s - loss: 0.1516 - accuracy: 0.9800\n"
     ]
    },
    {
     "data": {
      "text/plain": [
       "[0.15155859291553497, 0.9800000190734863]"
      ]
     },
     "execution_count": 17,
     "metadata": {},
     "output_type": "execute_result"
    }
   ],
   "source": [
    "model2.evaluate(x_test, y_test, verbose=2)"
   ]
  },
  {
   "cell_type": "code",
   "execution_count": 18,
   "metadata": {},
   "outputs": [
    {
     "data": {
      "text/plain": [
       "<tensorflow.python.training.tracking.util.CheckpointLoadStatus at 0x1b941b76100>"
      ]
     },
     "execution_count": 18,
     "metadata": {},
     "output_type": "execute_result"
    }
   ],
   "source": [
    "model2.load_weights(file_path)"
   ]
  },
  {
   "cell_type": "code",
   "execution_count": 19,
   "metadata": {},
   "outputs": [
    {
     "name": "stdout",
     "output_type": "stream",
     "text": [
      "313/313 - 0s - loss: 0.1202 - accuracy: 0.9810\n"
     ]
    },
    {
     "data": {
      "text/plain": [
       "[0.12023300677537918, 0.9810000061988831]"
      ]
     },
     "execution_count": 19,
     "metadata": {},
     "output_type": "execute_result"
    }
   ],
   "source": [
    "model2.evaluate(x_test, y_test, verbose=2)"
   ]
  },
  {
   "cell_type": "code",
   "execution_count": 20,
   "metadata": {},
   "outputs": [
    {
     "name": "stdout",
     "output_type": "stream",
     "text": [
      "Model: \"sequential_1\"\n",
      "_________________________________________________________________\n",
      "Layer (type)                 Output Shape              Param #   \n",
      "=================================================================\n",
      "flatten_1 (Flatten)          (None, 784)               0         \n",
      "_________________________________________________________________\n",
      "dense_3 (Dense)              (None, 256)               200960    \n",
      "_________________________________________________________________\n",
      "dense_4 (Dense)              (None, 256)               65792     \n",
      "_________________________________________________________________\n",
      "dense_5 (Dense)              (None, 10)                2570      \n",
      "=================================================================\n",
      "Total params: 269,322\n",
      "Trainable params: 269,322\n",
      "Non-trainable params: 0\n",
      "_________________________________________________________________\n"
     ]
    }
   ],
   "source": [
    "model2.summary()"
   ]
  },
  {
   "attachments": {},
   "cell_type": "markdown",
   "metadata": {},
   "source": [
    "## Convolutional Neural Networks"
   ]
  },
  {
   "cell_type": "code",
   "execution_count": 21,
   "metadata": {},
   "outputs": [],
   "source": [
    "modelConv = tf.keras.Sequential()\n",
    "modelConv.add(tf.keras.layers.Input(shape=(28,28,1)))\n",
    "modelConv.add(tf.keras.layers.Conv2D(16, (3,3), activation='relu'))\n",
    "modelConv.add(tf.keras.layers.Conv2D(16, (3,3), activation='relu'))\n",
    "modelConv.add(tf.keras.layers.Flatten())\n",
    "modelConv.add(tf.keras.layers.Dense(32, activation='relu'))\n",
    "modelConv.add(tf.keras.layers.Dense(10, activation='softmax'))"
   ]
  },
  {
   "cell_type": "code",
   "execution_count": 22,
   "metadata": {},
   "outputs": [],
   "source": [
    "modelConv.compile(optimizer='adam', loss='sparse_categorical_crossentropy', metrics=['accuracy'])"
   ]
  },
  {
   "cell_type": "code",
   "execution_count": 23,
   "metadata": {},
   "outputs": [
    {
     "name": "stdout",
     "output_type": "stream",
     "text": [
      "Model: \"sequential_2\"\n",
      "_________________________________________________________________\n",
      "Layer (type)                 Output Shape              Param #   \n",
      "=================================================================\n",
      "conv2d (Conv2D)              (None, 26, 26, 16)        160       \n",
      "_________________________________________________________________\n",
      "conv2d_1 (Conv2D)            (None, 24, 24, 16)        2320      \n",
      "_________________________________________________________________\n",
      "flatten_2 (Flatten)          (None, 9216)              0         \n",
      "_________________________________________________________________\n",
      "dense_6 (Dense)              (None, 32)                294944    \n",
      "_________________________________________________________________\n",
      "dense_7 (Dense)              (None, 10)                330       \n",
      "=================================================================\n",
      "Total params: 297,754\n",
      "Trainable params: 297,754\n",
      "Non-trainable params: 0\n",
      "_________________________________________________________________\n"
     ]
    }
   ],
   "source": [
    "modelConv.summary()"
   ]
  },
  {
   "cell_type": "code",
   "execution_count": 26,
   "metadata": {},
   "outputs": [],
   "source": [
    "file_path = 'Best_Model_Convolutional'\n",
    "\n",
    "check_pointer_Conv = ModelCheckpoint(filepath=file_path, monitor='accuracy', verbose=1, save_weights_only=True, save_best_only=True)\n",
    "early_stopper_Conv = EarlyStopping(monitor='accuracy', min_delta=0.00001, patience=8, verbose=1)\n",
    "tbCallback_Conv    = TensorBoard(log_dir='logConv', histogram_freq=0, write_graph=True, write_images=True)"
   ]
  },
  {
   "cell_type": "code",
   "execution_count": 27,
   "metadata": {},
   "outputs": [
    {
     "name": "stdout",
     "output_type": "stream",
     "text": [
      "Epoch 1/100\n",
      "1871/1875 [============================>.] - ETA: 0s - loss: 0.0043 - accuracy: 0.9985\n",
      "Epoch 00001: accuracy improved from -inf to 0.99852, saving model to Best_Model_Convolutional\n",
      "1875/1875 [==============================] - 20s 11ms/step - loss: 0.0043 - accuracy: 0.9985\n",
      "Epoch 2/100\n",
      "1870/1875 [============================>.] - ETA: 0s - loss: 0.0032 - accuracy: 0.9990\n",
      "Epoch 00002: accuracy improved from 0.99852 to 0.99902, saving model to Best_Model_Convolutional\n",
      "1875/1875 [==============================] - 18s 10ms/step - loss: 0.0032 - accuracy: 0.9990\n",
      "Epoch 3/100\n",
      "1875/1875 [==============================] - ETA: 0s - loss: 0.0035 - accuracy: 0.9989\n",
      "Epoch 00003: accuracy did not improve from 0.99902\n",
      "1875/1875 [==============================] - 18s 10ms/step - loss: 0.0035 - accuracy: 0.9989\n",
      "Epoch 4/100\n",
      "1872/1875 [============================>.] - ETA: 0s - loss: 0.0032 - accuracy: 0.9988\n",
      "Epoch 00004: accuracy did not improve from 0.99902\n",
      "1875/1875 [==============================] - 18s 10ms/step - loss: 0.0032 - accuracy: 0.9988\n",
      "Epoch 5/100\n",
      "1875/1875 [==============================] - ETA: 0s - loss: 0.0025 - accuracy: 0.9992\n",
      "Epoch 00005: accuracy improved from 0.99902 to 0.99922, saving model to Best_Model_Convolutional\n",
      "1875/1875 [==============================] - 18s 10ms/step - loss: 0.0025 - accuracy: 0.9992\n",
      "Epoch 6/100\n",
      "1871/1875 [============================>.] - ETA: 0s - loss: 0.0036 - accuracy: 0.9989\n",
      "Epoch 00006: accuracy did not improve from 0.99922\n",
      "1875/1875 [==============================] - 18s 10ms/step - loss: 0.0035 - accuracy: 0.9989\n",
      "Epoch 7/100\n",
      "1873/1875 [============================>.] - ETA: 0s - loss: 0.0024 - accuracy: 0.9992\n",
      "Epoch 00007: accuracy improved from 0.99922 to 0.99923, saving model to Best_Model_Convolutional\n",
      "1875/1875 [==============================] - 18s 10ms/step - loss: 0.0024 - accuracy: 0.9992\n",
      "Epoch 8/100\n",
      "1873/1875 [============================>.] - ETA: 0s - loss: 0.0032 - accuracy: 0.9989\n",
      "Epoch 00008: accuracy did not improve from 0.99923\n",
      "1875/1875 [==============================] - 19s 10ms/step - loss: 0.0032 - accuracy: 0.9990\n",
      "Epoch 9/100\n",
      "1875/1875 [==============================] - ETA: 0s - loss: 0.0013 - accuracy: 0.9997\n",
      "Epoch 00009: accuracy improved from 0.99923 to 0.99972, saving model to Best_Model_Convolutional\n",
      "1875/1875 [==============================] - 19s 10ms/step - loss: 0.0013 - accuracy: 0.9997\n",
      "Epoch 10/100\n",
      "1872/1875 [============================>.] - ETA: 0s - loss: 0.0028 - accuracy: 0.9991\n",
      "Epoch 00010: accuracy did not improve from 0.99972\n",
      "1875/1875 [==============================] - 18s 10ms/step - loss: 0.0028 - accuracy: 0.9991\n",
      "Epoch 11/100\n",
      "1872/1875 [============================>.] - ETA: 0s - loss: 0.0019 - accuracy: 0.9993\n",
      "Epoch 00011: accuracy did not improve from 0.99972\n",
      "1875/1875 [==============================] - 18s 10ms/step - loss: 0.0019 - accuracy: 0.9994\n",
      "Epoch 12/100\n",
      "1872/1875 [============================>.] - ETA: 0s - loss: 0.0023 - accuracy: 0.9994\n",
      "Epoch 00012: accuracy did not improve from 0.99972\n",
      "1875/1875 [==============================] - 18s 10ms/step - loss: 0.0023 - accuracy: 0.9994\n",
      "Epoch 13/100\n",
      "1872/1875 [============================>.] - ETA: 0s - loss: 0.0032 - accuracy: 0.9990\n",
      "Epoch 00013: accuracy did not improve from 0.99972\n",
      "1875/1875 [==============================] - 18s 10ms/step - loss: 0.0032 - accuracy: 0.9990\n",
      "Epoch 14/100\n",
      "1870/1875 [============================>.] - ETA: 0s - loss: 0.0026 - accuracy: 0.9992\n",
      "Epoch 00014: accuracy did not improve from 0.99972\n",
      "1875/1875 [==============================] - 19s 10ms/step - loss: 0.0026 - accuracy: 0.9992\n",
      "Epoch 15/100\n",
      "1870/1875 [============================>.] - ETA: 0s - loss: 0.0022 - accuracy: 0.9994\n",
      "Epoch 00015: accuracy did not improve from 0.99972\n",
      "1875/1875 [==============================] - 19s 10ms/step - loss: 0.0022 - accuracy: 0.9994\n",
      "Epoch 16/100\n",
      "1871/1875 [============================>.] - ETA: 0s - loss: 0.0022 - accuracy: 0.9994\n",
      "Epoch 00016: accuracy did not improve from 0.99972\n",
      "1875/1875 [==============================] - 18s 10ms/step - loss: 0.0022 - accuracy: 0.9994\n",
      "Epoch 17/100\n",
      "1873/1875 [============================>.] - ETA: 0s - loss: 0.0024 - accuracy: 0.9993\n",
      "Epoch 00017: accuracy did not improve from 0.99972\n",
      "1875/1875 [==============================] - 18s 10ms/step - loss: 0.0024 - accuracy: 0.9994\n",
      "Epoch 00017: early stopping\n"
     ]
    }
   ],
   "source": [
    "history = modelConv.fit(x_train, y_train, batch_size=32, epochs=100, callbacks=[check_pointer_Conv, early_stopper_Conv, tbCallback_Conv])"
   ]
  }
 ],
 "metadata": {
  "kernelspec": {
   "display_name": "Python 3",
   "language": "python",
   "name": "python3"
  },
  "language_info": {
   "codemirror_mode": {
    "name": "ipython",
    "version": 3
   },
   "file_extension": ".py",
   "mimetype": "text/x-python",
   "name": "python",
   "nbconvert_exporter": "python",
   "pygments_lexer": "ipython3",
   "version": "3.8.16"
  }
 },
 "nbformat": 4,
 "nbformat_minor": 2
}

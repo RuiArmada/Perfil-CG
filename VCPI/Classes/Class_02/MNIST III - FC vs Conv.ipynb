{
 "cells": [
  {
   "attachments": {},
   "cell_type": "markdown",
   "metadata": {},
   "source": [
    "# Fully Connected vs. Convolutional Neural Networks"
   ]
  },
  {
   "attachments": {},
   "cell_type": "markdown",
   "metadata": {},
   "source": [
    "## Refs \n",
    "\n",
    "[1] https://www.tensorflow.org/install\n",
    "\n",
    "[2] https://www.tensorflow.org/tutorials/keras/classification\n",
    "    "
   ]
  },
  {
   "cell_type": "code",
   "execution_count": 1,
   "metadata": {},
   "outputs": [],
   "source": [
    "import tensorflow as tf\n",
    "from tensorflow.keras.callbacks import ModelCheckpoint, EarlyStopping,TensorBoard\n",
    "import matplotlib.pyplot as plt\n",
    "import numpy as np"
   ]
  },
  {
   "attachments": {},
   "cell_type": "markdown",
   "metadata": {},
   "source": [
    "## Sequential Neural Network"
   ]
  },
  {
   "cell_type": "code",
   "execution_count": 2,
   "metadata": {},
   "outputs": [],
   "source": [
    "def show_history(history):\n",
    "    print(history.history.keys())\n",
    "\n",
    "    # summarize history for accuracy\n",
    "    plt.plot(history.history['accuracy'])\n",
    "    plt.plot(history.history['val_accuracy'])\n",
    "    plt.title('model accuracy')\n",
    "    plt.ylabel('accuracy')\n",
    "    plt.xlabel('epoch')\n",
    "    plt.legend(['train', 'val'], loc='upper left')\n",
    "    plt.show()\n",
    "    # summarize history for loss\n",
    "    plt.plot(history.history['loss'])\n",
    "    plt.plot(history.history['val_loss'])\n",
    "    plt.title('model loss')\n",
    "    plt.ylabel('loss')\n",
    "    plt.xlabel('epoch')\n",
    "    plt.legend(['train', 'val'], loc='upper left')\n",
    "    plt.show()\n",
    "\n",
    "\n",
    "def show_images(rows, cols, data, labels):\n",
    "\n",
    "    width= 3 * rows\n",
    "    height= 3 * cols\n",
    "\n",
    "    f, axes= plt.subplots(rows,cols,figsize=(height,width))\n",
    "    fig=plt.figure()\n",
    "\n",
    "    for a in range(rows*cols):\n",
    "        b = data[a]\n",
    "        subplot_title=(\"class \"+str(labels[a]))\n",
    "        axes.ravel()[a].set_title(subplot_title)  \n",
    "        axes.ravel()[a].imshow(data[a, :, :, 0], cmap='gray')\n",
    "    fig.tight_layout()    \n",
    "    plt.show()\n"
   ]
  },
  {
   "cell_type": "code",
   "execution_count": 3,
   "metadata": {},
   "outputs": [],
   "source": [
    "mnist = tf.keras.datasets.mnist"
   ]
  },
  {
   "cell_type": "code",
   "execution_count": 4,
   "metadata": {},
   "outputs": [
    {
     "name": "stdout",
     "output_type": "stream",
     "text": [
      "(60000, 28, 28) (60000,)\n"
     ]
    }
   ],
   "source": [
    "(x_train, y_train), (x_test, y_test) = mnist.load_data()\n",
    "x_train, x_test = x_train/255.0, x_test/255.0\n",
    "\n",
    "print(x_train.shape, y_train.shape)"
   ]
  },
  {
   "cell_type": "code",
   "execution_count": 5,
   "metadata": {},
   "outputs": [
    {
     "name": "stdout",
     "output_type": "stream",
     "text": [
      "(60000, 28, 28, 1) (60000, 28, 28, 1)\n"
     ]
    }
   ],
   "source": [
    "x_train = x_train.reshape(x_train.shape[0], x_train.shape[1], x_train.shape[2], 1)\n",
    "\n",
    "x_test = x_test.reshape(x_test.shape[0], x_test.shape[1], x_test.shape[2], 1)\n",
    "\n",
    "print(x_train.shape, x_train.shape)"
   ]
  },
  {
   "cell_type": "code",
   "execution_count": 6,
   "metadata": {},
   "outputs": [
    {
     "data": {
      "image/png": "[encoded data removed]",
      "text/plain": [
       "<Figure size 1200x600 with 8 Axes>"
      ]
     },
     "metadata": {},
     "output_type": "display_data"
    },
    {
     "data": {
      "text/plain": [
       "<Figure size 640x480 with 0 Axes>"
      ]
     },
     "metadata": {},
     "output_type": "display_data"
    }
   ],
   "source": [
    "show_images(2, 4, x_train, y_train)"
   ]
  },
  {
   "cell_type": "code",
   "execution_count": 7,
   "metadata": {},
   "outputs": [],
   "source": [
    "model = tf.keras.models.Sequential([\n",
    "    tf.keras.layers.Input(shape=(28,28,1)),\n",
    "    tf.keras.layers.Flatten(),\n",
    "    tf.keras.layers.Dense(256, activation='relu'),\n",
    "    tf.keras.layers.Dense(256, activation='relu'),\n",
    "    tf.keras.layers.Dense(10, activation='softmax')\n",
    "])"
   ]
  },
  {
   "cell_type": "code",
   "execution_count": 8,
   "metadata": {},
   "outputs": [],
   "source": [
    "model.compile(optimizer='adam', loss='sparse_categorical_crossentropy', metrics=['accuracy'])"
   ]
  },
  {
   "cell_type": "code",
   "execution_count": 9,
   "metadata": {},
   "outputs": [
    {
     "name": "stdout",
     "output_type": "stream",
     "text": [
      "313/313 - 0s - loss: 2.4062 - accuracy: 0.0807\n"
     ]
    },
    {
     "data": {
      "text/plain": [
       "[2.406212091445923, 0.08070000261068344]"
      ]
     },
     "execution_count": 9,
     "metadata": {},
     "output_type": "execute_result"
    }
   ],
   "source": [
    "model.evaluate(x_test, y_test, verbose=2)"
   ]
  },
  {
   "cell_type": "code",
   "execution_count": 10,
   "metadata": {},
   "outputs": [
    {
     "name": "stdout",
     "output_type": "stream",
     "text": [
      "Epoch 1/28\n",
      "1500/1500 [==============================] - 2s 1ms/step - loss: 0.2205 - accuracy: 0.9334 - val_loss: 0.1109 - val_accuracy: 0.9662\n",
      "Epoch 2/28\n",
      "1500/1500 [==============================] - 2s 1ms/step - loss: 0.0914 - accuracy: 0.9723 - val_loss: 0.1431 - val_accuracy: 0.9581\n",
      "Epoch 3/28\n",
      "1500/1500 [==============================] - 2s 1ms/step - loss: 0.0629 - accuracy: 0.9804 - val_loss: 0.1024 - val_accuracy: 0.9703\n",
      "Epoch 4/28\n",
      "1500/1500 [==============================] - 2s 1ms/step - loss: 0.0455 - accuracy: 0.9853 - val_loss: 0.0979 - val_accuracy: 0.9735\n",
      "Epoch 5/28\n",
      "1500/1500 [==============================] - 2s 1ms/step - loss: 0.0364 - accuracy: 0.9883 - val_loss: 0.1016 - val_accuracy: 0.9744\n",
      "Epoch 6/28\n",
      "1500/1500 [==============================] - 2s 1ms/step - loss: 0.0294 - accuracy: 0.9904 - val_loss: 0.1116 - val_accuracy: 0.9718\n",
      "Epoch 7/28\n",
      "1500/1500 [==============================] - 2s 1ms/step - loss: 0.0240 - accuracy: 0.9922 - val_loss: 0.1201 - val_accuracy: 0.9740\n",
      "Epoch 8/28\n",
      "1500/1500 [==============================] - 2s 1ms/step - loss: 0.0246 - accuracy: 0.9922 - val_loss: 0.1101 - val_accuracy: 0.9748\n",
      "Epoch 9/28\n",
      "1500/1500 [==============================] - 2s 1ms/step - loss: 0.0185 - accuracy: 0.9940 - val_loss: 0.1111 - val_accuracy: 0.9760\n",
      "Epoch 10/28\n",
      "1500/1500 [==============================] - 2s 1ms/step - loss: 0.0198 - accuracy: 0.9931 - val_loss: 0.1189 - val_accuracy: 0.9752\n",
      "Epoch 11/28\n",
      "1500/1500 [==============================] - 2s 1ms/step - loss: 0.0149 - accuracy: 0.9950 - val_loss: 0.1318 - val_accuracy: 0.9714\n",
      "Epoch 12/28\n",
      "1500/1500 [==============================] - 2s 1ms/step - loss: 0.0141 - accuracy: 0.9955 - val_loss: 0.1235 - val_accuracy: 0.9768\n",
      "Epoch 13/28\n",
      "1500/1500 [==============================] - 2s 1ms/step - loss: 0.0134 - accuracy: 0.9958 - val_loss: 0.1183 - val_accuracy: 0.9796\n",
      "Epoch 14/28\n",
      "1500/1500 [==============================] - 2s 1ms/step - loss: 0.0150 - accuracy: 0.9950 - val_loss: 0.1279 - val_accuracy: 0.9788\n",
      "Epoch 15/28\n",
      "1500/1500 [==============================] - 2s 1ms/step - loss: 0.0123 - accuracy: 0.9962 - val_loss: 0.1439 - val_accuracy: 0.9766\n",
      "Epoch 16/28\n",
      "1500/1500 [==============================] - 2s 1ms/step - loss: 0.0111 - accuracy: 0.9964 - val_loss: 0.1505 - val_accuracy: 0.9779\n",
      "Epoch 17/28\n",
      "1500/1500 [==============================] - 2s 1ms/step - loss: 0.0105 - accuracy: 0.9968 - val_loss: 0.1440 - val_accuracy: 0.9768\n",
      "Epoch 18/28\n",
      "1500/1500 [==============================] - 2s 1ms/step - loss: 0.0107 - accuracy: 0.9971 - val_loss: 0.1307 - val_accuracy: 0.9779\n",
      "Epoch 19/28\n",
      "1500/1500 [==============================] - 2s 1ms/step - loss: 0.0118 - accuracy: 0.9965 - val_loss: 0.1388 - val_accuracy: 0.9787\n",
      "Epoch 20/28\n",
      "1500/1500 [==============================] - 2s 1ms/step - loss: 0.0123 - accuracy: 0.9966 - val_loss: 0.1576 - val_accuracy: 0.9758\n",
      "Epoch 21/28\n",
      "1500/1500 [==============================] - 2s 1ms/step - loss: 0.0099 - accuracy: 0.9971 - val_loss: 0.1659 - val_accuracy: 0.9754\n",
      "Epoch 22/28\n",
      "1500/1500 [==============================] - 2s 1ms/step - loss: 0.0102 - accuracy: 0.9968 - val_loss: 0.1490 - val_accuracy: 0.9789\n",
      "Epoch 23/28\n",
      "1500/1500 [==============================] - 2s 1ms/step - loss: 0.0104 - accuracy: 0.9974 - val_loss: 0.1517 - val_accuracy: 0.9780\n",
      "Epoch 24/28\n",
      "1500/1500 [==============================] - 2s 1ms/step - loss: 0.0100 - accuracy: 0.9973 - val_loss: 0.1708 - val_accuracy: 0.9768\n",
      "Epoch 25/28\n",
      "1500/1500 [==============================] - 2s 1ms/step - loss: 0.0094 - accuracy: 0.9975 - val_loss: 0.2047 - val_accuracy: 0.9737\n",
      "Epoch 26/28\n",
      "1500/1500 [==============================] - 2s 1ms/step - loss: 0.0094 - accuracy: 0.9976 - val_loss: 0.1778 - val_accuracy: 0.9780\n",
      "Epoch 27/28\n",
      "1500/1500 [==============================] - 2s 1ms/step - loss: 0.0097 - accuracy: 0.9976 - val_loss: 0.1547 - val_accuracy: 0.9783\n",
      "Epoch 28/28\n",
      "1500/1500 [==============================] - 2s 1ms/step - loss: 0.0048 - accuracy: 0.9986 - val_loss: 0.1765 - val_accuracy: 0.9796\n"
     ]
    }
   ],
   "source": [
    "history = model.fit(x_train, y_train, batch_size=32, epochs=28, validation_split=0.2)"
   ]
  },
  {
   "cell_type": "code",
   "execution_count": 11,
   "metadata": {},
   "outputs": [
    {
     "name": "stdout",
     "output_type": "stream",
     "text": [
      "313/313 - 0s - loss: 0.1547 - accuracy: 0.9820\n"
     ]
    },
    {
     "data": {
      "text/plain": [
       "[0.15473449230194092, 0.9819999933242798]"
      ]
     },
     "execution_count": 11,
     "metadata": {},
     "output_type": "execute_result"
    }
   ],
   "source": [
    "model.evaluate(x_test, y_test, verbose=2)"
   ]
  },
  {
   "cell_type": "code",
   "execution_count": 12,
   "metadata": {},
   "outputs": [
    {
     "name": "stdout",
     "output_type": "stream",
     "text": [
      "dict_keys(['loss', 'accuracy', 'val_loss', 'val_accuracy'])\n"
     ]
    },
    {
     "data": {
      "image/png": "[encoded data removed]",
      "text/plain": [
       "<Figure size 640x480 with 1 Axes>"
      ]
     },
     "metadata": {},
     "output_type": "display_data"
    },
    {
     "data": {
      "image/png": "[encoded data removed]",
      "text/plain": [
       "<Figure size 640x480 with 1 Axes>"
      ]
     },
     "metadata": {},
     "output_type": "display_data"
    }
   ],
   "source": [
    "show_history(history)"
   ]
  },
  {
   "cell_type": "code",
   "execution_count": 13,
   "metadata": {},
   "outputs": [
    {
     "name": "stdout",
     "output_type": "stream",
     "text": [
      "Best epoch score -> 12 epoch\n"
     ]
    }
   ],
   "source": [
    "best_epoch = np.argmax(history.history['val_accuracy'])\n",
    "\n",
    "print(\"Best epoch score ->\", best_epoch, \"epoch\")"
   ]
  },
  {
   "cell_type": "code",
   "execution_count": 14,
   "metadata": {},
   "outputs": [],
   "source": [
    "file_path = 'Best_Model_Sequential'\n",
    "\n",
    "check_pointer_Seq = ModelCheckpoint(filepath=file_path, monitor='val_accuracy', verbose=1, save_weights_only=True, save_best_only=True)\n",
    "early_stopper_Seq = EarlyStopping(monitor='val_accuracy', min_delta=0.00001, patience=8, verbose=1)\n",
    "tbCallback_Seq    = TensorBoard(log_dir='logSeq', histogram_freq=0, write_graph=True, write_images=True)"
   ]
  },
  {
   "cell_type": "code",
   "execution_count": 15,
   "metadata": {},
   "outputs": [],
   "source": [
    "model2 = tf.keras.models.Sequential([\n",
    "    tf.keras.layers.Input(shape=(28,28,1)),\n",
    "    tf.keras.layers.Flatten(),\n",
    "    tf.keras.layers.Dense(256, activation='relu'),\n",
    "    tf.keras.layers.Dense(256, activation='relu'),\n",
    "    tf.keras.layers.Dense(10, activation='softmax')\n",
    "])\n",
    "\n",
    "model2.compile(optimizer='adam', loss='sparse_categorical_crossentropy', metrics=['accuracy'])"
   ]
  },
  {
   "cell_type": "code",
   "execution_count": 16,
   "metadata": {},
   "outputs": [
    {
     "name": "stdout",
     "output_type": "stream",
     "text": [
      "Epoch 1/100\n",
      "   1/1500 [..............................] - ETA: 0s - loss: 2.3301 - accuracy: 0.0938WARNING:tensorflow:From c:\\Users\\Utilizador\\anaconda3\\envs\\tf-gpu-cuda8\\lib\\site-packages\\tensorflow\\python\\ops\\summary_ops_v2.py:1277: stop (from tensorflow.python.eager.profiler) is deprecated and will be removed after 2020-07-01.\n",
      "Instructions for updating:\n",
      "use `tf.profiler.experimental.stop` instead.\n",
      "WARNING:tensorflow:Callbacks method `on_train_batch_end` is slow compared to the batch time (batch time: 0.0020s vs `on_train_batch_end` time: 0.0140s). Check your callbacks.\n",
      "1495/1500 [============================>.] - ETA: 0s - loss: 0.2232 - accuracy: 0.9327\n",
      "Epoch 00001: val_accuracy improved from -inf to 0.96508, saving model to Best_Model_Sequential\n",
      "1500/1500 [==============================] - 2s 1ms/step - loss: 0.2227 - accuracy: 0.9328 - val_loss: 0.1157 - val_accuracy: 0.9651\n",
      "Epoch 2/100\n",
      "1492/1500 [============================>.] - ETA: 0s - loss: 0.0910 - accuracy: 0.9726\n",
      "Epoch 00002: val_accuracy improved from 0.96508 to 0.97125, saving model to Best_Model_Sequential\n",
      "1500/1500 [==============================] - 2s 1ms/step - loss: 0.0915 - accuracy: 0.9725 - val_loss: 0.0948 - val_accuracy: 0.9712\n",
      "Epoch 3/100\n",
      "1485/1500 [============================>.] - ETA: 0s - loss: 0.0621 - accuracy: 0.9801\n",
      "Epoch 00003: val_accuracy improved from 0.97125 to 0.97442, saving model to Best_Model_Sequential\n",
      "1500/1500 [==============================] - 2s 1ms/step - loss: 0.0620 - accuracy: 0.9801 - val_loss: 0.0891 - val_accuracy: 0.9744\n",
      "Epoch 4/100\n",
      "1492/1500 [============================>.] - ETA: 0s - loss: 0.0462 - accuracy: 0.9852\n",
      "Epoch 00004: val_accuracy did not improve from 0.97442\n",
      "1500/1500 [==============================] - 2s 1ms/step - loss: 0.0462 - accuracy: 0.9851 - val_loss: 0.0992 - val_accuracy: 0.9718\n",
      "Epoch 5/100\n",
      "1495/1500 [============================>.] - ETA: 0s - loss: 0.0366 - accuracy: 0.9883\n",
      "Epoch 00005: val_accuracy improved from 0.97442 to 0.97742, saving model to Best_Model_Sequential\n",
      "1500/1500 [==============================] - 2s 1ms/step - loss: 0.0368 - accuracy: 0.9882 - val_loss: 0.0939 - val_accuracy: 0.9774\n",
      "Epoch 6/100\n",
      "1490/1500 [============================>.] - ETA: 0s - loss: 0.0298 - accuracy: 0.9901\n",
      "Epoch 00006: val_accuracy did not improve from 0.97742\n",
      "1500/1500 [==============================] - 2s 1ms/step - loss: 0.0299 - accuracy: 0.9901 - val_loss: 0.0967 - val_accuracy: 0.9765\n",
      "Epoch 7/100\n",
      "1488/1500 [============================>.] - ETA: 0s - loss: 0.0281 - accuracy: 0.9906\n",
      "Epoch 00007: val_accuracy did not improve from 0.97742\n",
      "1500/1500 [==============================] - 2s 1ms/step - loss: 0.0280 - accuracy: 0.9906 - val_loss: 0.0974 - val_accuracy: 0.9766\n",
      "Epoch 8/100\n",
      "1475/1500 [============================>.] - ETA: 0s - loss: 0.0202 - accuracy: 0.9929\n",
      "Epoch 00008: val_accuracy did not improve from 0.97742\n",
      "1500/1500 [==============================] - 2s 1ms/step - loss: 0.0200 - accuracy: 0.9930 - val_loss: 0.1186 - val_accuracy: 0.9766\n",
      "Epoch 9/100\n",
      "1459/1500 [============================>.] - ETA: 0s - loss: 0.0209 - accuracy: 0.9928\n",
      "Epoch 00009: val_accuracy improved from 0.97742 to 0.97842, saving model to Best_Model_Sequential\n",
      "1500/1500 [==============================] - 2s 1ms/step - loss: 0.0210 - accuracy: 0.9929 - val_loss: 0.1008 - val_accuracy: 0.9784\n",
      "Epoch 10/100\n",
      "1497/1500 [============================>.] - ETA: 0s - loss: 0.0173 - accuracy: 0.9945\n",
      "Epoch 00010: val_accuracy improved from 0.97842 to 0.97883, saving model to Best_Model_Sequential\n",
      "1500/1500 [==============================] - 2s 1ms/step - loss: 0.0173 - accuracy: 0.9945 - val_loss: 0.1013 - val_accuracy: 0.9788\n",
      "Epoch 11/100\n",
      "1478/1500 [============================>.] - ETA: 0s - loss: 0.0192 - accuracy: 0.9941\n",
      "Epoch 00011: val_accuracy did not improve from 0.97883\n",
      "1500/1500 [==============================] - 2s 1ms/step - loss: 0.0193 - accuracy: 0.9940 - val_loss: 0.1168 - val_accuracy: 0.9767\n",
      "Epoch 12/100\n",
      "1475/1500 [============================>.] - ETA: 0s - loss: 0.0141 - accuracy: 0.9954\n",
      "Epoch 00012: val_accuracy did not improve from 0.97883\n",
      "1500/1500 [==============================] - 2s 1ms/step - loss: 0.0143 - accuracy: 0.9953 - val_loss: 0.1202 - val_accuracy: 0.9781\n",
      "Epoch 13/100\n",
      "1461/1500 [============================>.] - ETA: 0s - loss: 0.0144 - accuracy: 0.9950\n",
      "Epoch 00013: val_accuracy did not improve from 0.97883\n",
      "1500/1500 [==============================] - 2s 1ms/step - loss: 0.0145 - accuracy: 0.9949 - val_loss: 0.1346 - val_accuracy: 0.9768\n",
      "Epoch 14/100\n",
      "1467/1500 [============================>.] - ETA: 0s - loss: 0.0134 - accuracy: 0.9959\n",
      "Epoch 00014: val_accuracy improved from 0.97883 to 0.98017, saving model to Best_Model_Sequential\n",
      "1500/1500 [==============================] - 2s 1ms/step - loss: 0.0135 - accuracy: 0.9958 - val_loss: 0.1172 - val_accuracy: 0.9802\n",
      "Epoch 15/100\n",
      "1489/1500 [============================>.] - ETA: 0s - loss: 0.0131 - accuracy: 0.9960\n",
      "Epoch 00015: val_accuracy did not improve from 0.98017\n",
      "1500/1500 [==============================] - 2s 1ms/step - loss: 0.0131 - accuracy: 0.9960 - val_loss: 0.1317 - val_accuracy: 0.9766\n",
      "Epoch 16/100\n",
      "1484/1500 [============================>.] - ETA: 0s - loss: 0.0125 - accuracy: 0.9963\n",
      "Epoch 00016: val_accuracy did not improve from 0.98017\n",
      "1500/1500 [==============================] - 2s 1ms/step - loss: 0.0124 - accuracy: 0.9963 - val_loss: 0.1501 - val_accuracy: 0.9754\n",
      "Epoch 17/100\n",
      "1453/1500 [============================>.] - ETA: 0s - loss: 0.0107 - accuracy: 0.9969\n",
      "Epoch 00017: val_accuracy did not improve from 0.98017\n",
      "1500/1500 [==============================] - 2s 1ms/step - loss: 0.0107 - accuracy: 0.9969 - val_loss: 0.1403 - val_accuracy: 0.9788\n",
      "Epoch 18/100\n",
      "1498/1500 [============================>.] - ETA: 0s - loss: 0.0100 - accuracy: 0.9969\n",
      "Epoch 00018: val_accuracy did not improve from 0.98017\n",
      "1500/1500 [==============================] - 2s 1ms/step - loss: 0.0100 - accuracy: 0.9969 - val_loss: 0.1637 - val_accuracy: 0.9762\n",
      "Epoch 19/100\n",
      "1467/1500 [============================>.] - ETA: 0s - loss: 0.0121 - accuracy: 0.9968\n",
      "Epoch 00019: val_accuracy did not improve from 0.98017\n",
      "1500/1500 [==============================] - 2s 1ms/step - loss: 0.0121 - accuracy: 0.9968 - val_loss: 0.1618 - val_accuracy: 0.9782\n",
      "Epoch 20/100\n",
      "1453/1500 [============================>.] - ETA: 0s - loss: 0.0088 - accuracy: 0.9974\n",
      "Epoch 00020: val_accuracy did not improve from 0.98017\n",
      "1500/1500 [==============================] - 2s 1ms/step - loss: 0.0088 - accuracy: 0.9974 - val_loss: 0.1529 - val_accuracy: 0.9787\n",
      "Epoch 21/100\n",
      "1494/1500 [============================>.] - ETA: 0s - loss: 0.0113 - accuracy: 0.9967\n",
      "Epoch 00021: val_accuracy did not improve from 0.98017\n",
      "1500/1500 [==============================] - 2s 1ms/step - loss: 0.0113 - accuracy: 0.9967 - val_loss: 0.1672 - val_accuracy: 0.9791\n",
      "Epoch 22/100\n",
      "1482/1500 [============================>.] - ETA: 0s - loss: 0.0096 - accuracy: 0.9974\n",
      "Epoch 00022: val_accuracy did not improve from 0.98017\n",
      "1500/1500 [==============================] - 2s 1ms/step - loss: 0.0095 - accuracy: 0.9974 - val_loss: 0.1572 - val_accuracy: 0.9786\n",
      "Epoch 00022: early stopping\n"
     ]
    }
   ],
   "source": [
    "history = model2.fit(x_train, y_train, batch_size=32, epochs=100, validation_split=0.2, callbacks=[check_pointer_Seq, early_stopper_Seq, tbCallback_Seq])"
   ]
  },
  {
   "cell_type": "code",
   "execution_count": 17,
   "metadata": {},
   "outputs": [
    {
     "name": "stdout",
     "output_type": "stream",
     "text": [
      "313/313 - 0s - loss: 0.1390 - accuracy: 0.9791\n"
     ]
    },
    {
     "data": {
      "text/plain": [
       "[0.1390237659215927, 0.9790999889373779]"
      ]
     },
     "execution_count": 17,
     "metadata": {},
     "output_type": "execute_result"
    }
   ],
   "source": [
    "model2.evaluate(x_test, y_test, verbose=2)"
   ]
  },
  {
   "cell_type": "code",
   "execution_count": 18,
   "metadata": {},
   "outputs": [
    {
     "data": {
      "text/plain": [
       "<tensorflow.python.training.tracking.util.CheckpointLoadStatus at 0x162c0d4dfd0>"
      ]
     },
     "execution_count": 18,
     "metadata": {},
     "output_type": "execute_result"
    }
   ],
   "source": [
    "model2.load_weights(file_path)"
   ]
  },
  {
   "cell_type": "code",
   "execution_count": 19,
   "metadata": {},
   "outputs": [
    {
     "name": "stdout",
     "output_type": "stream",
     "text": [
      "313/313 - 0s - loss: 0.1052 - accuracy: 0.9807\n"
     ]
    },
    {
     "data": {
      "text/plain": [
       "[0.10518670827150345, 0.9807000160217285]"
      ]
     },
     "execution_count": 19,
     "metadata": {},
     "output_type": "execute_result"
    }
   ],
   "source": [
    "model2.evaluate(x_test, y_test, verbose=2)"
   ]
  },
  {
   "cell_type": "code",
   "execution_count": 20,
   "metadata": {},
   "outputs": [
    {
     "name": "stdout",
     "output_type": "stream",
     "text": [
      "Model: \"sequential_1\"\n",
      "_________________________________________________________________\n",
      "Layer (type)                 Output Shape              Param #   \n",
      "=================================================================\n",
      "flatten_1 (Flatten)          (None, 784)               0         \n",
      "_________________________________________________________________\n",
      "dense_3 (Dense)              (None, 256)               200960    \n",
      "_________________________________________________________________\n",
      "dense_4 (Dense)              (None, 256)               65792     \n",
      "_________________________________________________________________\n",
      "dense_5 (Dense)              (None, 10)                2570      \n",
      "=================================================================\n",
      "Total params: 269,322\n",
      "Trainable params: 269,322\n",
      "Non-trainable params: 0\n",
      "_________________________________________________________________\n"
     ]
    }
   ],
   "source": [
    "model2.summary()"
   ]
  },
  {
   "attachments": {},
   "cell_type": "markdown",
   "metadata": {},
   "source": [
    "## Convolutional Neural Networks"
   ]
  },
  {
   "cell_type": "code",
   "execution_count": 21,
   "metadata": {},
   "outputs": [
    {
     "name": "stdout",
     "output_type": "stream",
     "text": [
      "Model: \"sequential_2\"\n",
      "_________________________________________________________________\n",
      "Layer (type)                 Output Shape              Param #   \n",
      "=================================================================\n",
      "conv2d (Conv2D)              (None, 26, 26, 16)        160       \n",
      "_________________________________________________________________\n",
      "conv2d_1 (Conv2D)            (None, 24, 24, 16)        2320      \n",
      "_________________________________________________________________\n",
      "flatten_2 (Flatten)          (None, 9216)              0         \n",
      "_________________________________________________________________\n",
      "dense_6 (Dense)              (None, 32)                294944    \n",
      "_________________________________________________________________\n",
      "dense_7 (Dense)              (None, 10)                330       \n",
      "=================================================================\n",
      "Total params: 297,754\n",
      "Trainable params: 297,754\n",
      "Non-trainable params: 0\n",
      "_________________________________________________________________\n",
      "None\n"
     ]
    }
   ],
   "source": [
    "def createConvModel():\n",
    "    modelConv = tf.keras.Sequential()\n",
    "    modelConv.add(tf.keras.layers.Input(shape=(28,28,1)))\n",
    "    modelConv.add(tf.keras.layers.Conv2D(16, (3,3), activation='relu'))\n",
    "    modelConv.add(tf.keras.layers.Conv2D(16, (3,3), activation='relu'))\n",
    "    modelConv.add(tf.keras.layers.Flatten())\n",
    "    modelConv.add(tf.keras.layers.Dense(32, activation='relu'))\n",
    "    modelConv.add(tf.keras.layers.Dense(10, activation='softmax'))\n",
    "    \n",
    "    modelConv.compile(optimizer='adam', loss='sparse_categorical_crossentropy', metrics=['accuracy'])\n",
    "    \n",
    "    return modelConv\n",
    "    \n",
    "modelConv = createConvModel()\n",
    "\n",
    "print(modelConv.summary())"
   ]
  },
  {
   "cell_type": "code",
   "execution_count": 22,
   "metadata": {},
   "outputs": [],
   "source": [
    "file_path = 'Best_Model_Convolutional'\n",
    "\n",
    "check_pointer_Conv = ModelCheckpoint(filepath=file_path, monitor='val_accuracy', verbose=1, save_weights_only=True, save_best_only=True)\n",
    "early_stopper_Conv = EarlyStopping(monitor='val_accuracy', min_delta=0.00001, patience=8, verbose=1)\n",
    "tbCallback_Conv    = TensorBoard(log_dir='logConv', histogram_freq=0, write_graph=True, write_images=True)"
   ]
  },
  {
   "cell_type": "code",
   "execution_count": 23,
   "metadata": {},
   "outputs": [
    {
     "name": "stdout",
     "output_type": "stream",
     "text": [
      "Epoch 1/100\n",
      "   2/1875 [..............................] - ETA: 5:28 - loss: 2.2805 - accuracy: 0.0781WARNING:tensorflow:Callbacks method `on_train_batch_end` is slow compared to the batch time (batch time: 0.0090s vs `on_train_batch_end` time: 0.3417s). Check your callbacks.\n",
      "1871/1875 [============================>.] - ETA: 0s - loss: 0.1504 - accuracy: 0.9540\n",
      "Epoch 00001: accuracy improved from -inf to 0.95410, saving model to Best_Model_Convolutional\n",
      "WARNING:tensorflow:Early stopping conditioned on metric `val_accuracy` which is not available. Available metrics are: loss,accuracy\n",
      "1875/1875 [==============================] - 18s 10ms/step - loss: 0.1502 - accuracy: 0.9541\n",
      "Epoch 2/100\n",
      "1874/1875 [============================>.] - ETA: 0s - loss: 0.0519 - accuracy: 0.9840\n",
      "Epoch 00002: accuracy improved from 0.95410 to 0.98400, saving model to Best_Model_Convolutional\n",
      "WARNING:tensorflow:Early stopping conditioned on metric `val_accuracy` which is not available. Available metrics are: loss,accuracy\n",
      "1875/1875 [==============================] - 17s 9ms/step - loss: 0.0519 - accuracy: 0.9840\n",
      "Epoch 3/100\n",
      "1870/1875 [============================>.] - ETA: 0s - loss: 0.0359 - accuracy: 0.9886\n",
      "Epoch 00003: accuracy improved from 0.98400 to 0.98862, saving model to Best_Model_Convolutional\n",
      "WARNING:tensorflow:Early stopping conditioned on metric `val_accuracy` which is not available. Available metrics are: loss,accuracy\n",
      "1875/1875 [==============================] - 17s 9ms/step - loss: 0.0358 - accuracy: 0.9886\n",
      "Epoch 4/100\n",
      "1875/1875 [==============================] - ETA: 0s - loss: 0.0261 - accuracy: 0.9914\n",
      "Epoch 00004: accuracy improved from 0.98862 to 0.99137, saving model to Best_Model_Convolutional\n",
      "WARNING:tensorflow:Early stopping conditioned on metric `val_accuracy` which is not available. Available metrics are: loss,accuracy\n",
      "1875/1875 [==============================] - 18s 9ms/step - loss: 0.0261 - accuracy: 0.9914\n",
      "Epoch 5/100\n",
      "1871/1875 [============================>.] - ETA: 0s - loss: 0.0185 - accuracy: 0.9939\n",
      "Epoch 00005: accuracy improved from 0.99137 to 0.99393, saving model to Best_Model_Convolutional\n",
      "WARNING:tensorflow:Early stopping conditioned on metric `val_accuracy` which is not available. Available metrics are: loss,accuracy\n",
      "1875/1875 [==============================] - 17s 9ms/step - loss: 0.0185 - accuracy: 0.9939\n",
      "Epoch 6/100\n",
      "1875/1875 [==============================] - ETA: 0s - loss: 0.0139 - accuracy: 0.9953\n",
      "Epoch 00006: accuracy improved from 0.99393 to 0.99527, saving model to Best_Model_Convolutional\n",
      "WARNING:tensorflow:Early stopping conditioned on metric `val_accuracy` which is not available. Available metrics are: loss,accuracy\n",
      "1875/1875 [==============================] - 17s 9ms/step - loss: 0.0139 - accuracy: 0.9953\n",
      "Epoch 7/100\n",
      "1875/1875 [==============================] - ETA: 0s - loss: 0.0100 - accuracy: 0.9970\n",
      "Epoch 00007: accuracy improved from 0.99527 to 0.99698, saving model to Best_Model_Convolutional\n",
      "WARNING:tensorflow:Early stopping conditioned on metric `val_accuracy` which is not available. Available metrics are: loss,accuracy\n",
      "1875/1875 [==============================] - 18s 10ms/step - loss: 0.0100 - accuracy: 0.9970\n",
      "Epoch 8/100\n",
      "1873/1875 [============================>.] - ETA: 0s - loss: 0.0103 - accuracy: 0.9968\n",
      "Epoch 00008: accuracy did not improve from 0.99698\n",
      "WARNING:tensorflow:Early stopping conditioned on metric `val_accuracy` which is not available. Available metrics are: loss,accuracy\n",
      "1875/1875 [==============================] - 17s 9ms/step - loss: 0.0103 - accuracy: 0.9968\n",
      "Epoch 9/100\n",
      "1873/1875 [============================>.] - ETA: 0s - loss: 0.0078 - accuracy: 0.9971\n",
      "Epoch 00009: accuracy improved from 0.99698 to 0.99707, saving model to Best_Model_Convolutional\n",
      "WARNING:tensorflow:Early stopping conditioned on metric `val_accuracy` which is not available. Available metrics are: loss,accuracy\n",
      "1875/1875 [==============================] - 18s 10ms/step - loss: 0.0078 - accuracy: 0.9971\n",
      "Epoch 10/100\n",
      "1871/1875 [============================>.] - ETA: 0s - loss: 0.0069 - accuracy: 0.9978\n",
      "Epoch 00010: accuracy improved from 0.99707 to 0.99777, saving model to Best_Model_Convolutional\n",
      "WARNING:tensorflow:Early stopping conditioned on metric `val_accuracy` which is not available. Available metrics are: loss,accuracy\n",
      "1875/1875 [==============================] - 18s 10ms/step - loss: 0.0069 - accuracy: 0.9978\n",
      "Epoch 11/100\n",
      "1875/1875 [==============================] - ETA: 0s - loss: 0.0056 - accuracy: 0.9980\n",
      "Epoch 00011: accuracy improved from 0.99777 to 0.99797, saving model to Best_Model_Convolutional\n",
      "WARNING:tensorflow:Early stopping conditioned on metric `val_accuracy` which is not available. Available metrics are: loss,accuracy\n",
      "1875/1875 [==============================] - 19s 10ms/step - loss: 0.0056 - accuracy: 0.9980\n",
      "Epoch 12/100\n",
      "1875/1875 [==============================] - ETA: 0s - loss: 0.0057 - accuracy: 0.9980\n",
      "Epoch 00012: accuracy improved from 0.99797 to 0.99803, saving model to Best_Model_Convolutional\n",
      "WARNING:tensorflow:Early stopping conditioned on metric `val_accuracy` which is not available. Available metrics are: loss,accuracy\n",
      "1875/1875 [==============================] - 19s 10ms/step - loss: 0.0057 - accuracy: 0.9980\n",
      "Epoch 13/100\n",
      "1874/1875 [============================>.] - ETA: 0s - loss: 0.0054 - accuracy: 0.9980\n",
      "Epoch 00013: accuracy improved from 0.99803 to 0.99805, saving model to Best_Model_Convolutional\n",
      "WARNING:tensorflow:Early stopping conditioned on metric `val_accuracy` which is not available. Available metrics are: loss,accuracy\n",
      "1875/1875 [==============================] - 19s 10ms/step - loss: 0.0054 - accuracy: 0.9980\n",
      "Epoch 14/100\n",
      "1874/1875 [============================>.] - ETA: 0s - loss: 0.0036 - accuracy: 0.9989\n",
      "Epoch 00014: accuracy improved from 0.99805 to 0.99887, saving model to Best_Model_Convolutional\n",
      "WARNING:tensorflow:Early stopping conditioned on metric `val_accuracy` which is not available. Available metrics are: loss,accuracy\n",
      "1875/1875 [==============================] - 19s 10ms/step - loss: 0.0036 - accuracy: 0.9989\n",
      "Epoch 15/100\n",
      "1871/1875 [============================>.] - ETA: 0s - loss: 0.0051 - accuracy: 0.9983\n",
      "Epoch 00015: accuracy did not improve from 0.99887\n",
      "WARNING:tensorflow:Early stopping conditioned on metric `val_accuracy` which is not available. Available metrics are: loss,accuracy\n",
      "1875/1875 [==============================] - 19s 10ms/step - loss: 0.0051 - accuracy: 0.9983\n",
      "Epoch 16/100\n",
      "1874/1875 [============================>.] - ETA: 0s - loss: 0.0046 - accuracy: 0.9985\n",
      "Epoch 00016: accuracy did not improve from 0.99887\n",
      "WARNING:tensorflow:Early stopping conditioned on metric `val_accuracy` which is not available. Available metrics are: loss,accuracy\n",
      "1875/1875 [==============================] - 19s 10ms/step - loss: 0.0046 - accuracy: 0.9985\n",
      "Epoch 17/100\n",
      "1871/1875 [============================>.] - ETA: 0s - loss: 0.0028 - accuracy: 0.9990\n",
      "Epoch 00017: accuracy improved from 0.99887 to 0.99905, saving model to Best_Model_Convolutional\n",
      "WARNING:tensorflow:Early stopping conditioned on metric `val_accuracy` which is not available. Available metrics are: loss,accuracy\n",
      "1875/1875 [==============================] - 19s 10ms/step - loss: 0.0028 - accuracy: 0.9991\n",
      "Epoch 18/100\n",
      "1870/1875 [============================>.] - ETA: 0s - loss: 0.0030 - accuracy: 0.9991\n",
      "Epoch 00018: accuracy improved from 0.99905 to 0.99910, saving model to Best_Model_Convolutional\n",
      "WARNING:tensorflow:Early stopping conditioned on metric `val_accuracy` which is not available. Available metrics are: loss,accuracy\n",
      "1875/1875 [==============================] - 19s 10ms/step - loss: 0.0030 - accuracy: 0.9991\n",
      "Epoch 19/100\n",
      "1875/1875 [==============================] - ETA: 0s - loss: 0.0041 - accuracy: 0.9987\n",
      "Epoch 00019: accuracy did not improve from 0.99910\n",
      "WARNING:tensorflow:Early stopping conditioned on metric `val_accuracy` which is not available. Available metrics are: loss,accuracy\n",
      "1875/1875 [==============================] - 17s 9ms/step - loss: 0.0041 - accuracy: 0.9987\n",
      "Epoch 20/100\n",
      "1871/1875 [============================>.] - ETA: 0s - loss: 0.0019 - accuracy: 0.9995\n",
      "Epoch 00020: accuracy improved from 0.99910 to 0.99948, saving model to Best_Model_Convolutional\n",
      "WARNING:tensorflow:Early stopping conditioned on metric `val_accuracy` which is not available. Available metrics are: loss,accuracy\n",
      "1875/1875 [==============================] - 19s 10ms/step - loss: 0.0019 - accuracy: 0.9995\n",
      "Epoch 21/100\n",
      "1875/1875 [==============================] - ETA: 0s - loss: 0.0041 - accuracy: 0.9987\n",
      "Epoch 00021: accuracy did not improve from 0.99948\n",
      "WARNING:tensorflow:Early stopping conditioned on metric `val_accuracy` which is not available. Available metrics are: loss,accuracy\n",
      "1875/1875 [==============================] - 18s 10ms/step - loss: 0.0041 - accuracy: 0.9987\n",
      "Epoch 22/100\n",
      "1875/1875 [==============================] - ETA: 0s - loss: 0.0030 - accuracy: 0.9991\n",
      "Epoch 00022: accuracy did not improve from 0.99948\n",
      "WARNING:tensorflow:Early stopping conditioned on metric `val_accuracy` which is not available. Available metrics are: loss,accuracy\n",
      "1875/1875 [==============================] - 18s 10ms/step - loss: 0.0030 - accuracy: 0.9991\n",
      "Epoch 23/100\n",
      "1873/1875 [============================>.] - ETA: 0s - loss: 0.0025 - accuracy: 0.9992\n",
      "Epoch 00023: accuracy did not improve from 0.99948\n",
      "WARNING:tensorflow:Early stopping conditioned on metric `val_accuracy` which is not available. Available metrics are: loss,accuracy\n",
      "1875/1875 [==============================] - 18s 10ms/step - loss: 0.0026 - accuracy: 0.9992\n",
      "Epoch 24/100\n",
      "1875/1875 [==============================] - ETA: 0s - loss: 0.0026 - accuracy: 0.9991\n",
      "Epoch 00024: accuracy did not improve from 0.99948\n",
      "WARNING:tensorflow:Early stopping conditioned on metric `val_accuracy` which is not available. Available metrics are: loss,accuracy\n",
      "1875/1875 [==============================] - 18s 10ms/step - loss: 0.0026 - accuracy: 0.9991\n",
      "Epoch 25/100\n",
      "1873/1875 [============================>.] - ETA: 0s - loss: 0.0029 - accuracy: 0.9992\n",
      "Epoch 00025: accuracy did not improve from 0.99948\n",
      "WARNING:tensorflow:Early stopping conditioned on metric `val_accuracy` which is not available. Available metrics are: loss,accuracy\n",
      "1875/1875 [==============================] - 18s 10ms/step - loss: 0.0029 - accuracy: 0.9992\n",
      "Epoch 26/100\n",
      "1874/1875 [============================>.] - ETA: 0s - loss: 0.0032 - accuracy: 0.9989\n",
      "Epoch 00026: accuracy did not improve from 0.99948\n",
      "WARNING:tensorflow:Early stopping conditioned on metric `val_accuracy` which is not available. Available metrics are: loss,accuracy\n",
      "1875/1875 [==============================] - 18s 10ms/step - loss: 0.0032 - accuracy: 0.9989\n",
      "Epoch 27/100\n",
      "1873/1875 [============================>.] - ETA: 0s - loss: 0.0019 - accuracy: 0.9993\n",
      "Epoch 00027: accuracy did not improve from 0.99948\n",
      "WARNING:tensorflow:Early stopping conditioned on metric `val_accuracy` which is not available. Available metrics are: loss,accuracy\n",
      "1875/1875 [==============================] - 19s 10ms/step - loss: 0.0019 - accuracy: 0.9994\n",
      "Epoch 28/100\n",
      "1872/1875 [============================>.] - ETA: 0s - loss: 0.0024 - accuracy: 0.9992\n",
      "Epoch 00028: accuracy did not improve from 0.99948\n",
      "WARNING:tensorflow:Early stopping conditioned on metric `val_accuracy` which is not available. Available metrics are: loss,accuracy\n",
      "1875/1875 [==============================] - 18s 10ms/step - loss: 0.0024 - accuracy: 0.9992\n",
      "Epoch 29/100\n",
      "1871/1875 [============================>.] - ETA: 0s - loss: 0.0031 - accuracy: 0.9989\n",
      "Epoch 00029: accuracy did not improve from 0.99948\n",
      "WARNING:tensorflow:Early stopping conditioned on metric `val_accuracy` which is not available. Available metrics are: loss,accuracy\n",
      "1875/1875 [==============================] - 19s 10ms/step - loss: 0.0031 - accuracy: 0.9989\n",
      "Epoch 30/100\n",
      "1875/1875 [==============================] - ETA: 0s - loss: 0.0025 - accuracy: 0.9993\n",
      "Epoch 00030: accuracy did not improve from 0.99948\n",
      "WARNING:tensorflow:Early stopping conditioned on metric `val_accuracy` which is not available. Available metrics are: loss,accuracy\n",
      "1875/1875 [==============================] - 18s 10ms/step - loss: 0.0025 - accuracy: 0.9993\n",
      "Epoch 31/100\n",
      "1870/1875 [============================>.] - ETA: 0s - loss: 0.0019 - accuracy: 0.9994\n",
      "Epoch 00031: accuracy did not improve from 0.99948\n",
      "WARNING:tensorflow:Early stopping conditioned on metric `val_accuracy` which is not available. Available metrics are: loss,accuracy\n",
      "1875/1875 [==============================] - 18s 10ms/step - loss: 0.0019 - accuracy: 0.9994\n",
      "Epoch 32/100\n",
      "1871/1875 [============================>.] - ETA: 0s - loss: 0.0029 - accuracy: 0.9993\n",
      "Epoch 00032: accuracy did not improve from 0.99948\n",
      "WARNING:tensorflow:Early stopping conditioned on metric `val_accuracy` which is not available. Available metrics are: loss,accuracy\n",
      "1875/1875 [==============================] - 17s 9ms/step - loss: 0.0028 - accuracy: 0.9993\n",
      "Epoch 33/100\n",
      "1872/1875 [============================>.] - ETA: 0s - loss: 0.0022 - accuracy: 0.9993\n",
      "Epoch 00033: accuracy did not improve from 0.99948\n",
      "WARNING:tensorflow:Early stopping conditioned on metric `val_accuracy` which is not available. Available metrics are: loss,accuracy\n",
      "1875/1875 [==============================] - 17s 9ms/step - loss: 0.0022 - accuracy: 0.9993\n",
      "Epoch 34/100\n",
      "1872/1875 [============================>.] - ETA: 0s - loss: 0.0023 - accuracy: 0.9993\n",
      "Epoch 00034: accuracy did not improve from 0.99948\n",
      "WARNING:tensorflow:Early stopping conditioned on metric `val_accuracy` which is not available. Available metrics are: loss,accuracy\n",
      "1875/1875 [==============================] - 17s 9ms/step - loss: 0.0023 - accuracy: 0.9994\n",
      "Epoch 35/100\n",
      "1875/1875 [==============================] - ETA: 0s - loss: 0.0015 - accuracy: 0.9995\n",
      "Epoch 00035: accuracy did not improve from 0.99948\n",
      "WARNING:tensorflow:Early stopping conditioned on metric `val_accuracy` which is not available. Available metrics are: loss,accuracy\n",
      "1875/1875 [==============================] - 17s 9ms/step - loss: 0.0015 - accuracy: 0.9995\n",
      "Epoch 36/100\n",
      "1874/1875 [============================>.] - ETA: 0s - loss: 4.1113e-04 - accuracy: 0.9999\n",
      "Epoch 00036: accuracy improved from 0.99948 to 0.99988, saving model to Best_Model_Convolutional\n",
      "WARNING:tensorflow:Early stopping conditioned on metric `val_accuracy` which is not available. Available metrics are: loss,accuracy\n",
      "1875/1875 [==============================] - 18s 9ms/step - loss: 4.1092e-04 - accuracy: 0.9999\n",
      "Epoch 37/100\n",
      "1873/1875 [============================>.] - ETA: 0s - loss: 0.0029 - accuracy: 0.9992\n",
      "Epoch 00037: accuracy did not improve from 0.99988\n",
      "WARNING:tensorflow:Early stopping conditioned on metric `val_accuracy` which is not available. Available metrics are: loss,accuracy\n",
      "1875/1875 [==============================] - 21s 11ms/step - loss: 0.0029 - accuracy: 0.9992\n",
      "Epoch 38/100\n",
      "1871/1875 [============================>.] - ETA: 0s - loss: 0.0016 - accuracy: 0.9995\n",
      "Epoch 00038: accuracy did not improve from 0.99988\n",
      "WARNING:tensorflow:Early stopping conditioned on metric `val_accuracy` which is not available. Available metrics are: loss,accuracy\n",
      "1875/1875 [==============================] - 19s 10ms/step - loss: 0.0016 - accuracy: 0.9995\n",
      "Epoch 39/100\n",
      "1872/1875 [============================>.] - ETA: 0s - loss: 3.4526e-04 - accuracy: 0.9998\n",
      "Epoch 00039: accuracy did not improve from 0.99988\n",
      "WARNING:tensorflow:Early stopping conditioned on metric `val_accuracy` which is not available. Available metrics are: loss,accuracy\n",
      "1875/1875 [==============================] - 18s 10ms/step - loss: 3.4471e-04 - accuracy: 0.9998\n",
      "Epoch 40/100\n",
      "1875/1875 [==============================] - ETA: 0s - loss: 7.3137e-04 - accuracy: 0.9998\n",
      "Epoch 00040: accuracy did not improve from 0.99988\n",
      "WARNING:tensorflow:Early stopping conditioned on metric `val_accuracy` which is not available. Available metrics are: loss,accuracy\n",
      "1875/1875 [==============================] - 18s 10ms/step - loss: 7.3137e-04 - accuracy: 0.9998\n",
      "Epoch 41/100\n",
      "1875/1875 [==============================] - ETA: 0s - loss: 0.0040 - accuracy: 0.9991\n",
      "Epoch 00041: accuracy did not improve from 0.99988\n",
      "WARNING:tensorflow:Early stopping conditioned on metric `val_accuracy` which is not available. Available metrics are: loss,accuracy\n",
      "1875/1875 [==============================] - 18s 10ms/step - loss: 0.0040 - accuracy: 0.9991\n",
      "Epoch 42/100\n",
      "1875/1875 [==============================] - ETA: 0s - loss: 0.0019 - accuracy: 0.9993\n",
      "Epoch 00042: accuracy did not improve from 0.99988\n",
      "WARNING:tensorflow:Early stopping conditioned on metric `val_accuracy` which is not available. Available metrics are: loss,accuracy\n",
      "1875/1875 [==============================] - 18s 10ms/step - loss: 0.0019 - accuracy: 0.9993\n",
      "Epoch 43/100\n",
      "1874/1875 [============================>.] - ETA: 0s - loss: 0.0029 - accuracy: 0.9993\n",
      "Epoch 00043: accuracy did not improve from 0.99988\n",
      "WARNING:tensorflow:Early stopping conditioned on metric `val_accuracy` which is not available. Available metrics are: loss,accuracy\n",
      "1875/1875 [==============================] - 18s 10ms/step - loss: 0.0029 - accuracy: 0.9993\n",
      "Epoch 44/100\n",
      "1872/1875 [============================>.] - ETA: 0s - loss: 0.0022 - accuracy: 0.9994\n",
      "Epoch 00044: accuracy did not improve from 0.99988\n",
      "WARNING:tensorflow:Early stopping conditioned on metric `val_accuracy` which is not available. Available metrics are: loss,accuracy\n",
      "1875/1875 [==============================] - 18s 10ms/step - loss: 0.0022 - accuracy: 0.9994\n",
      "Epoch 45/100\n",
      "1875/1875 [==============================] - ETA: 0s - loss: 6.6879e-04 - accuracy: 0.9998\n",
      "Epoch 00045: accuracy did not improve from 0.99988\n",
      "WARNING:tensorflow:Early stopping conditioned on metric `val_accuracy` which is not available. Available metrics are: loss,accuracy\n",
      "1875/1875 [==============================] - 18s 10ms/step - loss: 6.6879e-04 - accuracy: 0.9998\n",
      "Epoch 46/100\n",
      "1873/1875 [============================>.] - ETA: 0s - loss: 0.0032 - accuracy: 0.9992\n",
      "Epoch 00046: accuracy did not improve from 0.99988\n",
      "WARNING:tensorflow:Early stopping conditioned on metric `val_accuracy` which is not available. Available metrics are: loss,accuracy\n",
      "1875/1875 [==============================] - 18s 10ms/step - loss: 0.0032 - accuracy: 0.9992\n",
      "Epoch 47/100\n",
      "1871/1875 [============================>.] - ETA: 0s - loss: 0.0013 - accuracy: 0.9996\n",
      "Epoch 00047: accuracy did not improve from 0.99988\n",
      "WARNING:tensorflow:Early stopping conditioned on metric `val_accuracy` which is not available. Available metrics are: loss,accuracy\n",
      "1875/1875 [==============================] - 18s 10ms/step - loss: 0.0013 - accuracy: 0.9996\n",
      "Epoch 48/100\n",
      "1873/1875 [============================>.] - ETA: 0s - loss: 0.0026 - accuracy: 0.9993\n",
      "Epoch 00048: accuracy did not improve from 0.99988\n",
      "WARNING:tensorflow:Early stopping conditioned on metric `val_accuracy` which is not available. Available metrics are: loss,accuracy\n",
      "1875/1875 [==============================] - 18s 10ms/step - loss: 0.0026 - accuracy: 0.9994\n",
      "Epoch 49/100\n",
      "1872/1875 [============================>.] - ETA: 0s - loss: 0.0011 - accuracy: 0.9997\n",
      "Epoch 00049: accuracy did not improve from 0.99988\n",
      "WARNING:tensorflow:Early stopping conditioned on metric `val_accuracy` which is not available. Available metrics are: loss,accuracy\n",
      "1875/1875 [==============================] - 18s 10ms/step - loss: 0.0010 - accuracy: 0.9997\n",
      "Epoch 50/100\n",
      "1872/1875 [============================>.] - ETA: 0s - loss: 0.0014 - accuracy: 0.9998\n",
      "Epoch 00050: accuracy did not improve from 0.99988\n",
      "WARNING:tensorflow:Early stopping conditioned on metric `val_accuracy` which is not available. Available metrics are: loss,accuracy\n",
      "1875/1875 [==============================] - 18s 10ms/step - loss: 0.0014 - accuracy: 0.9998\n",
      "Epoch 51/100\n",
      "1875/1875 [==============================] - ETA: 0s - loss: 0.0029 - accuracy: 0.9994\n",
      "Epoch 00051: accuracy did not improve from 0.99988\n",
      "WARNING:tensorflow:Early stopping conditioned on metric `val_accuracy` which is not available. Available metrics are: loss,accuracy\n",
      "1875/1875 [==============================] - 18s 10ms/step - loss: 0.0029 - accuracy: 0.9994\n",
      "Epoch 52/100\n",
      "1872/1875 [============================>.] - ETA: 0s - loss: 0.0014 - accuracy: 0.9997\n",
      "Epoch 00052: accuracy did not improve from 0.99988\n",
      "WARNING:tensorflow:Early stopping conditioned on metric `val_accuracy` which is not available. Available metrics are: loss,accuracy\n",
      "1875/1875 [==============================] - 18s 10ms/step - loss: 0.0014 - accuracy: 0.9997\n",
      "Epoch 53/100\n",
      "1873/1875 [============================>.] - ETA: 0s - loss: 0.0027 - accuracy: 0.9993\n",
      "Epoch 00053: accuracy did not improve from 0.99988\n",
      "WARNING:tensorflow:Early stopping conditioned on metric `val_accuracy` which is not available. Available metrics are: loss,accuracy\n",
      "1875/1875 [==============================] - 18s 10ms/step - loss: 0.0027 - accuracy: 0.9993\n",
      "Epoch 54/100\n",
      "1875/1875 [==============================] - ETA: 0s - loss: 0.0019 - accuracy: 0.9995\n",
      "Epoch 00054: accuracy did not improve from 0.99988\n",
      "WARNING:tensorflow:Early stopping conditioned on metric `val_accuracy` which is not available. Available metrics are: loss,accuracy\n",
      "1875/1875 [==============================] - 18s 10ms/step - loss: 0.0019 - accuracy: 0.9995\n",
      "Epoch 55/100\n",
      "1871/1875 [============================>.] - ETA: 0s - loss: 8.7972e-04 - accuracy: 0.9997\n",
      "Epoch 00055: accuracy did not improve from 0.99988\n",
      "WARNING:tensorflow:Early stopping conditioned on metric `val_accuracy` which is not available. Available metrics are: loss,accuracy\n",
      "1875/1875 [==============================] - 18s 10ms/step - loss: 8.7785e-04 - accuracy: 0.9998\n",
      "Epoch 56/100\n",
      "1875/1875 [==============================] - ETA: 0s - loss: 1.8996e-05 - accuracy: 1.0000\n",
      "Epoch 00056: accuracy improved from 0.99988 to 1.00000, saving model to Best_Model_Convolutional\n",
      "WARNING:tensorflow:Early stopping conditioned on metric `val_accuracy` which is not available. Available metrics are: loss,accuracy\n",
      "1875/1875 [==============================] - 18s 10ms/step - loss: 1.8996e-05 - accuracy: 1.0000\n",
      "Epoch 57/100\n",
      "1872/1875 [============================>.] - ETA: 0s - loss: 0.0026 - accuracy: 0.9994\n",
      "Epoch 00057: accuracy did not improve from 1.00000\n",
      "WARNING:tensorflow:Early stopping conditioned on metric `val_accuracy` which is not available. Available metrics are: loss,accuracy\n",
      "1875/1875 [==============================] - 18s 10ms/step - loss: 0.0026 - accuracy: 0.9995\n",
      "Epoch 58/100\n",
      "1875/1875 [==============================] - ETA: 0s - loss: 0.0022 - accuracy: 0.9995\n",
      "Epoch 00058: accuracy did not improve from 1.00000\n",
      "WARNING:tensorflow:Early stopping conditioned on metric `val_accuracy` which is not available. Available metrics are: loss,accuracy\n",
      "1875/1875 [==============================] - 18s 10ms/step - loss: 0.0022 - accuracy: 0.9995\n",
      "Epoch 59/100\n",
      "1872/1875 [============================>.] - ETA: 0s - loss: 0.0021 - accuracy: 0.9995\n",
      "Epoch 00059: accuracy did not improve from 1.00000\n",
      "WARNING:tensorflow:Early stopping conditioned on metric `val_accuracy` which is not available. Available metrics are: loss,accuracy\n",
      "1875/1875 [==============================] - 18s 10ms/step - loss: 0.0020 - accuracy: 0.9995\n",
      "Epoch 60/100\n",
      "1874/1875 [============================>.] - ETA: 0s - loss: 1.7793e-04 - accuracy: 0.9999\n",
      "Epoch 00060: accuracy did not improve from 1.00000\n",
      "WARNING:tensorflow:Early stopping conditioned on metric `val_accuracy` which is not available. Available metrics are: loss,accuracy\n",
      "1875/1875 [==============================] - 18s 10ms/step - loss: 1.7783e-04 - accuracy: 0.9999\n",
      "Epoch 61/100\n",
      "1873/1875 [============================>.] - ETA: 0s - loss: 0.0027 - accuracy: 0.9996\n",
      "Epoch 00061: accuracy did not improve from 1.00000\n",
      "WARNING:tensorflow:Early stopping conditioned on metric `val_accuracy` which is not available. Available metrics are: loss,accuracy\n",
      "1875/1875 [==============================] - 18s 10ms/step - loss: 0.0027 - accuracy: 0.9996\n",
      "Epoch 62/100\n",
      "1873/1875 [============================>.] - ETA: 0s - loss: 0.0017 - accuracy: 0.9996\n",
      "Epoch 00062: accuracy did not improve from 1.00000\n",
      "WARNING:tensorflow:Early stopping conditioned on metric `val_accuracy` which is not available. Available metrics are: loss,accuracy\n",
      "1875/1875 [==============================] - 18s 10ms/step - loss: 0.0017 - accuracy: 0.9996\n",
      "Epoch 63/100\n",
      "1870/1875 [============================>.] - ETA: 0s - loss: 0.0016 - accuracy: 0.9996\n",
      "Epoch 00063: accuracy did not improve from 1.00000\n",
      "WARNING:tensorflow:Early stopping conditioned on metric `val_accuracy` which is not available. Available metrics are: loss,accuracy\n",
      "1875/1875 [==============================] - 18s 10ms/step - loss: 0.0016 - accuracy: 0.9996\n",
      "Epoch 64/100\n",
      "1871/1875 [============================>.] - ETA: 0s - loss: 0.0023 - accuracy: 0.9994\n",
      "Epoch 00064: accuracy did not improve from 1.00000\n",
      "WARNING:tensorflow:Early stopping conditioned on metric `val_accuracy` which is not available. Available metrics are: loss,accuracy\n",
      "1875/1875 [==============================] - 18s 10ms/step - loss: 0.0024 - accuracy: 0.9994\n",
      "Epoch 65/100\n",
      "1872/1875 [============================>.] - ETA: 0s - loss: 0.0021 - accuracy: 0.9997\n",
      "Epoch 00065: accuracy did not improve from 1.00000\n",
      "WARNING:tensorflow:Early stopping conditioned on metric `val_accuracy` which is not available. Available metrics are: loss,accuracy\n",
      "1875/1875 [==============================] - 18s 10ms/step - loss: 0.0021 - accuracy: 0.9997\n",
      "Epoch 66/100\n",
      "1875/1875 [==============================] - ETA: 0s - loss: 0.0014 - accuracy: 0.9997\n",
      "Epoch 00066: accuracy did not improve from 1.00000\n",
      "WARNING:tensorflow:Early stopping conditioned on metric `val_accuracy` which is not available. Available metrics are: loss,accuracy\n",
      "1875/1875 [==============================] - 18s 10ms/step - loss: 0.0014 - accuracy: 0.9997\n",
      "Epoch 67/100\n",
      "1870/1875 [============================>.] - ETA: 0s - loss: 0.0019 - accuracy: 0.9996\n",
      "Epoch 00067: accuracy did not improve from 1.00000\n",
      "WARNING:tensorflow:Early stopping conditioned on metric `val_accuracy` which is not available. Available metrics are: loss,accuracy\n",
      "1875/1875 [==============================] - 18s 10ms/step - loss: 0.0019 - accuracy: 0.9996\n",
      "Epoch 68/100\n",
      "1875/1875 [==============================] - ETA: 0s - loss: 9.6514e-04 - accuracy: 0.9998\n",
      "Epoch 00068: accuracy did not improve from 1.00000\n",
      "WARNING:tensorflow:Early stopping conditioned on metric `val_accuracy` which is not available. Available metrics are: loss,accuracy\n",
      "1875/1875 [==============================] - 18s 9ms/step - loss: 9.6514e-04 - accuracy: 0.9998\n",
      "Epoch 69/100\n",
      "1871/1875 [============================>.] - ETA: 0s - loss: 0.0023 - accuracy: 0.9994\n",
      "Epoch 00069: accuracy did not improve from 1.00000\n",
      "WARNING:tensorflow:Early stopping conditioned on metric `val_accuracy` which is not available. Available metrics are: loss,accuracy\n",
      "1875/1875 [==============================] - 18s 10ms/step - loss: 0.0023 - accuracy: 0.9994\n",
      "Epoch 70/100\n",
      "1871/1875 [============================>.] - ETA: 0s - loss: 0.0012 - accuracy: 0.9997\n",
      "Epoch 00070: accuracy did not improve from 1.00000\n",
      "WARNING:tensorflow:Early stopping conditioned on metric `val_accuracy` which is not available. Available metrics are: loss,accuracy\n",
      "1875/1875 [==============================] - 19s 10ms/step - loss: 0.0012 - accuracy: 0.9997\n",
      "Epoch 71/100\n",
      "1875/1875 [==============================] - ETA: 0s - loss: 0.0026 - accuracy: 0.9995\n",
      "Epoch 00071: accuracy did not improve from 1.00000\n",
      "WARNING:tensorflow:Early stopping conditioned on metric `val_accuracy` which is not available. Available metrics are: loss,accuracy\n",
      "1875/1875 [==============================] - 18s 10ms/step - loss: 0.0026 - accuracy: 0.9995\n",
      "Epoch 72/100\n",
      "1873/1875 [============================>.] - ETA: 0s - loss: 0.0017 - accuracy: 0.9997\n",
      "Epoch 00072: accuracy did not improve from 1.00000\n",
      "WARNING:tensorflow:Early stopping conditioned on metric `val_accuracy` which is not available. Available metrics are: loss,accuracy\n",
      "1875/1875 [==============================] - 17s 9ms/step - loss: 0.0017 - accuracy: 0.9998\n",
      "Epoch 73/100\n",
      "1871/1875 [============================>.] - ETA: 0s - loss: 0.0023 - accuracy: 0.9995\n",
      "Epoch 00073: accuracy did not improve from 1.00000\n",
      "WARNING:tensorflow:Early stopping conditioned on metric `val_accuracy` which is not available. Available metrics are: loss,accuracy\n",
      "1875/1875 [==============================] - 17s 9ms/step - loss: 0.0023 - accuracy: 0.9995\n",
      "Epoch 74/100\n",
      "1871/1875 [============================>.] - ETA: 0s - loss: 9.0390e-04 - accuracy: 0.9998\n",
      "Epoch 00074: accuracy did not improve from 1.00000\n",
      "WARNING:tensorflow:Early stopping conditioned on metric `val_accuracy` which is not available. Available metrics are: loss,accuracy\n",
      "1875/1875 [==============================] - 17s 9ms/step - loss: 9.0198e-04 - accuracy: 0.9998\n",
      "Epoch 75/100\n",
      "1875/1875 [==============================] - ETA: 0s - loss: 0.0017 - accuracy: 0.9995\n",
      "Epoch 00075: accuracy did not improve from 1.00000\n",
      "WARNING:tensorflow:Early stopping conditioned on metric `val_accuracy` which is not available. Available metrics are: loss,accuracy\n",
      "1875/1875 [==============================] - 18s 9ms/step - loss: 0.0017 - accuracy: 0.9995\n",
      "Epoch 76/100\n",
      "1875/1875 [==============================] - ETA: 0s - loss: 0.0022 - accuracy: 0.9995\n",
      "Epoch 00076: accuracy did not improve from 1.00000\n",
      "WARNING:tensorflow:Early stopping conditioned on metric `val_accuracy` which is not available. Available metrics are: loss,accuracy\n",
      "1875/1875 [==============================] - 18s 10ms/step - loss: 0.0022 - accuracy: 0.9995\n",
      "Epoch 77/100\n",
      "1874/1875 [============================>.] - ETA: 0s - loss: 2.9968e-04 - accuracy: 0.9999\n",
      "Epoch 00077: accuracy did not improve from 1.00000\n",
      "WARNING:tensorflow:Early stopping conditioned on metric `val_accuracy` which is not available. Available metrics are: loss,accuracy\n",
      "1875/1875 [==============================] - 18s 9ms/step - loss: 2.9952e-04 - accuracy: 0.9999\n",
      "Epoch 78/100\n",
      "1870/1875 [============================>.] - ETA: 0s - loss: 8.0570e-06 - accuracy: 1.0000\n",
      "Epoch 00078: accuracy did not improve from 1.00000\n",
      "WARNING:tensorflow:Early stopping conditioned on metric `val_accuracy` which is not available. Available metrics are: loss,accuracy\n",
      "1875/1875 [==============================] - 18s 9ms/step - loss: 8.0356e-06 - accuracy: 1.0000\n",
      "Epoch 79/100\n",
      "1874/1875 [============================>.] - ETA: 0s - loss: 2.0411e-07 - accuracy: 1.0000\n",
      "Epoch 00079: accuracy did not improve from 1.00000\n",
      "WARNING:tensorflow:Early stopping conditioned on metric `val_accuracy` which is not available. Available metrics are: loss,accuracy\n",
      "1875/1875 [==============================] - 18s 9ms/step - loss: 2.0401e-07 - accuracy: 1.0000\n",
      "Epoch 80/100\n",
      "1872/1875 [============================>.] - ETA: 0s - loss: 1.1698e-07 - accuracy: 1.0000\n",
      "Epoch 00080: accuracy did not improve from 1.00000\n",
      "WARNING:tensorflow:Early stopping conditioned on metric `val_accuracy` which is not available. Available metrics are: loss,accuracy\n",
      "1875/1875 [==============================] - 18s 10ms/step - loss: 1.1680e-07 - accuracy: 1.0000\n",
      "Epoch 81/100\n",
      "1870/1875 [============================>.] - ETA: 0s - loss: 7.1870e-08 - accuracy: 1.0000\n",
      "Epoch 00081: accuracy did not improve from 1.00000\n",
      "WARNING:tensorflow:Early stopping conditioned on metric `val_accuracy` which is not available. Available metrics are: loss,accuracy\n",
      "1875/1875 [==============================] - 18s 9ms/step - loss: 7.1680e-08 - accuracy: 1.0000\n",
      "Epoch 82/100\n",
      "1873/1875 [============================>.] - ETA: 0s - loss: 4.3638e-08 - accuracy: 1.0000\n",
      "Epoch 00082: accuracy did not improve from 1.00000\n",
      "WARNING:tensorflow:Early stopping conditioned on metric `val_accuracy` which is not available. Available metrics are: loss,accuracy\n",
      "1875/1875 [==============================] - 18s 10ms/step - loss: 4.3592e-08 - accuracy: 1.0000\n",
      "Epoch 83/100\n",
      "1872/1875 [============================>.] - ETA: 0s - loss: 2.3645e-08 - accuracy: 1.0000\n",
      "Epoch 00083: accuracy did not improve from 1.00000\n",
      "WARNING:tensorflow:Early stopping conditioned on metric `val_accuracy` which is not available. Available metrics are: loss,accuracy\n",
      "1875/1875 [==============================] - 17s 9ms/step - loss: 2.3621e-08 - accuracy: 1.0000\n",
      "Epoch 84/100\n",
      "1871/1875 [============================>.] - ETA: 0s - loss: 1.2747e-08 - accuracy: 1.0000\n",
      "Epoch 00084: accuracy did not improve from 1.00000\n",
      "WARNING:tensorflow:Early stopping conditioned on metric `val_accuracy` which is not available. Available metrics are: loss,accuracy\n",
      "1875/1875 [==============================] - 17s 9ms/step - loss: 1.2737e-08 - accuracy: 1.0000\n",
      "Epoch 85/100\n",
      "1873/1875 [============================>.] - ETA: 0s - loss: 6.3129e-09 - accuracy: 1.0000\n",
      "Epoch 00085: accuracy did not improve from 1.00000\n",
      "WARNING:tensorflow:Early stopping conditioned on metric `val_accuracy` which is not available. Available metrics are: loss,accuracy\n",
      "1875/1875 [==============================] - 18s 10ms/step - loss: 6.3062e-09 - accuracy: 1.0000\n",
      "Epoch 86/100\n",
      "1871/1875 [============================>.] - ETA: 0s - loss: 3.2196e-09 - accuracy: 1.0000\n",
      "Epoch 00086: accuracy did not improve from 1.00000\n",
      "WARNING:tensorflow:Early stopping conditioned on metric `val_accuracy` which is not available. Available metrics are: loss,accuracy\n",
      "1875/1875 [==============================] - 18s 10ms/step - loss: 3.2147e-09 - accuracy: 1.0000\n",
      "Epoch 87/100\n",
      "1871/1875 [============================>.] - ETA: 0s - loss: 1.7004e-09 - accuracy: 1.0000\n",
      "Epoch 00087: accuracy did not improve from 1.00000\n",
      "WARNING:tensorflow:Early stopping conditioned on metric `val_accuracy` which is not available. Available metrics are: loss,accuracy\n",
      "1875/1875 [==============================] - 18s 10ms/step - loss: 1.7047e-09 - accuracy: 1.0000\n",
      "Epoch 88/100\n",
      "1871/1875 [============================>.] - ETA: 0s - loss: 9.1589e-10 - accuracy: 1.0000\n",
      "Epoch 00088: accuracy did not improve from 1.00000\n",
      "WARNING:tensorflow:Early stopping conditioned on metric `val_accuracy` which is not available. Available metrics are: loss,accuracy\n",
      "1875/1875 [==============================] - 18s 10ms/step - loss: 9.1394e-10 - accuracy: 1.0000\n",
      "Epoch 89/100\n",
      "1874/1875 [============================>.] - ETA: 0s - loss: 4.8703e-10 - accuracy: 1.0000\n",
      "Epoch 00089: accuracy did not improve from 1.00000\n",
      "WARNING:tensorflow:Early stopping conditioned on metric `val_accuracy` which is not available. Available metrics are: loss,accuracy\n",
      "1875/1875 [==============================] - 18s 9ms/step - loss: 4.8876e-10 - accuracy: 1.0000\n",
      "Epoch 90/100\n",
      "1872/1875 [============================>.] - ETA: 0s - loss: 2.9651e-10 - accuracy: 1.0000\n",
      "Epoch 00090: accuracy did not improve from 1.00000\n",
      "WARNING:tensorflow:Early stopping conditioned on metric `val_accuracy` which is not available. Available metrics are: loss,accuracy\n",
      "1875/1875 [==============================] - 18s 9ms/step - loss: 2.9604e-10 - accuracy: 1.0000\n",
      "Epoch 91/100\n",
      "1870/1875 [============================>.] - ETA: 0s - loss: 1.9324e-10 - accuracy: 1.0000\n",
      "Epoch 00091: accuracy did not improve from 1.00000\n",
      "WARNING:tensorflow:Early stopping conditioned on metric `val_accuracy` which is not available. Available metrics are: loss,accuracy\n",
      "1875/1875 [==============================] - 18s 10ms/step - loss: 1.9670e-10 - accuracy: 1.0000\n",
      "Epoch 92/100\n",
      "1875/1875 [==============================] - ETA: 0s - loss: 1.4702e-10 - accuracy: 1.0000\n",
      "Epoch 00092: accuracy did not improve from 1.00000\n",
      "WARNING:tensorflow:Early stopping conditioned on metric `val_accuracy` which is not available. Available metrics are: loss,accuracy\n",
      "1875/1875 [==============================] - 18s 10ms/step - loss: 1.4702e-10 - accuracy: 1.0000\n",
      "Epoch 93/100\n",
      "1871/1875 [============================>.] - ETA: 0s - loss: 1.0154e-10 - accuracy: 1.0000\n",
      "Epoch 00093: accuracy did not improve from 1.00000\n",
      "WARNING:tensorflow:Early stopping conditioned on metric `val_accuracy` which is not available. Available metrics are: loss,accuracy\n",
      "1875/1875 [==============================] - 18s 9ms/step - loss: 1.0133e-10 - accuracy: 1.0000\n",
      "Epoch 94/100\n",
      "1875/1875 [==============================] - ETA: 0s - loss: 8.3446e-11 - accuracy: 1.0000\n",
      "Epoch 00094: accuracy did not improve from 1.00000\n",
      "WARNING:tensorflow:Early stopping conditioned on metric `val_accuracy` which is not available. Available metrics are: loss,accuracy\n",
      "1875/1875 [==============================] - 18s 9ms/step - loss: 8.3446e-11 - accuracy: 1.0000\n",
      "Epoch 95/100\n",
      "1871/1875 [============================>.] - ETA: 0s - loss: 8.5616e-11 - accuracy: 1.0000\n",
      "Epoch 00095: accuracy did not improve from 1.00000\n",
      "WARNING:tensorflow:Early stopping conditioned on metric `val_accuracy` which is not available. Available metrics are: loss,accuracy\n",
      "1875/1875 [==============================] - 18s 9ms/step - loss: 8.5433e-11 - accuracy: 1.0000\n",
      "Epoch 96/100\n",
      "1875/1875 [==============================] - ETA: 0s - loss: 6.9539e-11 - accuracy: 1.0000\n",
      "Epoch 00096: accuracy did not improve from 1.00000\n",
      "WARNING:tensorflow:Early stopping conditioned on metric `val_accuracy` which is not available. Available metrics are: loss,accuracy\n",
      "1875/1875 [==============================] - 18s 9ms/step - loss: 6.9539e-11 - accuracy: 1.0000\n",
      "Epoch 97/100\n",
      "1875/1875 [==============================] - ETA: 0s - loss: 7.3512e-11 - accuracy: 1.0000\n",
      "Epoch 00097: accuracy did not improve from 1.00000\n",
      "WARNING:tensorflow:Early stopping conditioned on metric `val_accuracy` which is not available. Available metrics are: loss,accuracy\n",
      "1875/1875 [==============================] - 18s 9ms/step - loss: 7.3512e-11 - accuracy: 1.0000\n",
      "Epoch 98/100\n",
      "1872/1875 [============================>.] - ETA: 0s - loss: 6.7660e-11 - accuracy: 1.0000\n",
      "Epoch 00098: accuracy did not improve from 1.00000\n",
      "WARNING:tensorflow:Early stopping conditioned on metric `val_accuracy` which is not available. Available metrics are: loss,accuracy\n",
      "1875/1875 [==============================] - 18s 9ms/step - loss: 6.7552e-11 - accuracy: 1.0000\n",
      "Epoch 99/100\n",
      "1873/1875 [============================>.] - ETA: 0s - loss: 6.1657e-11 - accuracy: 1.0000\n",
      "Epoch 00099: accuracy did not improve from 1.00000\n",
      "WARNING:tensorflow:Early stopping conditioned on metric `val_accuracy` which is not available. Available metrics are: loss,accuracy\n",
      "1875/1875 [==============================] - 18s 9ms/step - loss: 6.1591e-11 - accuracy: 1.0000\n",
      "Epoch 100/100\n",
      "1873/1875 [============================>.] - ETA: 0s - loss: 5.7679e-11 - accuracy: 1.0000\n",
      "Epoch 00100: accuracy did not improve from 1.00000\n",
      "WARNING:tensorflow:Early stopping conditioned on metric `val_accuracy` which is not available. Available metrics are: loss,accuracy\n",
      "1875/1875 [==============================] - 18s 10ms/step - loss: 5.7618e-11 - accuracy: 1.0000\n"
     ]
    }
   ],
   "source": [
    "history = modelConv.fit(x_train, y_train, batch_size=32, epochs=100, callbacks=[check_pointer_Conv, early_stopper_Conv, tbCallback_Conv])"
   ]
  },
  {
   "cell_type": "code",
   "execution_count": 24,
   "metadata": {},
   "outputs": [
    {
     "name": "stdout",
     "output_type": "stream",
     "text": [
      "dict_keys(['loss', 'accuracy'])\n"
     ]
    },
    {
     "ename": "KeyError",
     "evalue": "'val_accuracy'",
     "output_type": "error",
     "traceback": [
      "\u001b[1;31m---------------------------------------------------------------------------\u001b[0m",
      "\u001b[1;31mKeyError\u001b[0m                                  Traceback (most recent call last)",
      "Cell \u001b[1;32mIn[24], line 1\u001b[0m\n\u001b[1;32m----> 1\u001b[0m show_history(history)\n",
      "Cell \u001b[1;32mIn[2], line 6\u001b[0m, in \u001b[0;36mshow_history\u001b[1;34m(history)\u001b[0m\n\u001b[0;32m      4\u001b[0m \u001b[39m# summarize history for accuracy\u001b[39;00m\n\u001b[0;32m      5\u001b[0m plt\u001b[39m.\u001b[39mplot(history\u001b[39m.\u001b[39mhistory[\u001b[39m'\u001b[39m\u001b[39maccuracy\u001b[39m\u001b[39m'\u001b[39m])\n\u001b[1;32m----> 6\u001b[0m plt\u001b[39m.\u001b[39mplot(history\u001b[39m.\u001b[39;49mhistory[\u001b[39m'\u001b[39;49m\u001b[39mval_accuracy\u001b[39;49m\u001b[39m'\u001b[39;49m])\n\u001b[0;32m      7\u001b[0m plt\u001b[39m.\u001b[39mtitle(\u001b[39m'\u001b[39m\u001b[39mmodel accuracy\u001b[39m\u001b[39m'\u001b[39m)\n\u001b[0;32m      8\u001b[0m plt\u001b[39m.\u001b[39mylabel(\u001b[39m'\u001b[39m\u001b[39maccuracy\u001b[39m\u001b[39m'\u001b[39m)\n",
      "\u001b[1;31mKeyError\u001b[0m: 'val_accuracy'"
     ]
    },
    {
     "data": {
      "image/png": "[encoded data removed]",
      "text/plain": [
       "<Figure size 640x480 with 1 Axes>"
      ]
     },
     "metadata": {},
     "output_type": "display_data"
    }
   ],
   "source": [
    "show_history(history)"
   ]
  },
  {
   "cell_type": "code",
   "execution_count": null,
   "metadata": {},
   "outputs": [],
   "source": [
    "modelConv.evaluate(x_test, y_test, verbose=2)"
   ]
  },
  {
   "attachments": {},
   "cell_type": "markdown",
   "metadata": {},
   "source": [
    "## Create new modelm load the weights and evaluate"
   ]
  },
  {
   "cell_type": "code",
   "execution_count": null,
   "metadata": {},
   "outputs": [],
   "source": [
    "m = createConvModel()\n",
    "\n",
    "m.load_weights(file_path)\n",
    "m.evaluate(x_test, y_test, verbose=2)"
   ]
  },
  {
   "attachments": {},
   "cell_type": "markdown",
   "metadata": {},
   "source": [
    "## Visualizing the convolution layers\n",
    "\n",
    "Check the layers in the model:"
   ]
  },
  {
   "cell_type": "code",
   "execution_count": null,
   "metadata": {},
   "outputs": [],
   "source": [
    "for layer in modelConv.layers:\n",
    "    print(layer.name)"
   ]
  },
  {
   "attachments": {},
   "cell_type": "markdown",
   "metadata": {},
   "source": [
    "Build a model with all the conv layers as outputs"
   ]
  },
  {
   "cell_type": "code",
   "execution_count": null,
   "metadata": {},
   "outputs": [],
   "source": [
    "# Extract the outputs of the top 2 layers\n",
    "layer_output = [layer.output for layer in modelConv.layers[:2]]\n",
    "# Build new model\n",
    "activation_model = tf.keras.models.Model(inputs=modelConv.input, outputs=layer_output)\n",
    "\n",
    "activation_model.summary()\n",
    "\n",
    "tf.keras.utils.plot_model(activation_model, \"img1\", show_shapes=True)"
   ]
  },
  {
   "cell_type": "code",
   "execution_count": null,
   "metadata": {},
   "outputs": [],
   "source": [
    "activations = activation_model.predict(np.asarray([x_test[0]]))\n",
    "\n",
    "first_layer_activation = activations[0]\n",
    "print(first_layer_activation.shape)\n",
    "\n",
    "second_layer_activation = activations[1]\n",
    "print(second_layer_activation.shape)"
   ]
  },
  {
   "attachments": {},
   "cell_type": "markdown",
   "metadata": {},
   "source": [
    "Show activation of the 3rd filter on the second convolutional layer"
   ]
  },
  {
   "cell_type": "code",
   "execution_count": null,
   "metadata": {},
   "outputs": [],
   "source": [
    "plt.matshow(second_layer_activation[0, :, :, 2], cmap='red')"
   ]
  },
  {
   "attachments": {},
   "cell_type": "markdown",
   "metadata": {},
   "source": [
    "Show all activations"
   ]
  },
  {
   "cell_type": "code",
   "execution_count": null,
   "metadata": {},
   "outputs": [],
   "source": [
    "layer_names = [layer.name for layer in activation_model.layers]\n",
    "print(layer_names)\n",
    "\n",
    "for layer_n, layer_a in zip(layer_names[1:], activations):\n",
    "    filters = layer_a.shape[-1]\n",
    "    labels = [layer_n + ' ' + str(i) for i in range(filters)]\n",
    "    images = np.swapaxes(layer_a[0], 2, 0) # filters as first dimension\n",
    "    images = np.swapaxes(images, 1, 2) # swap x and y\n",
    "    images = images[..., None] # add extra dimension at end\n",
    "    print(images.shape)\n",
    "    show_images(2, 8, images, labels)"
   ]
  }
 ],
 "metadata": {
  "kernelspec": {
   "display_name": "Python 3",
   "language": "python",
   "name": "python3"
  },
  "language_info": {
   "codemirror_mode": {
    "name": "ipython",
    "version": 3
   },
   "file_extension": ".py",
   "mimetype": "text/x-python",
   "name": "python",
   "nbconvert_exporter": "python",
   "pygments_lexer": "ipython3",
   "version": "3.8.16"
  }
 },
 "nbformat": 4,
 "nbformat_minor": 2
}

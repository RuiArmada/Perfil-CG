{
  "cells": [
    {
      "attachments": {},
      "cell_type": "markdown",
      "metadata": {
        "colab_type": "text",
        "id": "view-in-github"
      },
      "source": [
        "<a href=\"https://colab.research.google.com/github/RuiArmada/VCPI-Individual/blob/main/GANs.ipynb\" target=\"_parent\"><img src=\"https://colab.research.google.com/assets/colab-badge.svg\" alt=\"Open In Colab\"/></a>"
      ]
    },
    {
      "attachments": {},
      "cell_type": "markdown",
      "metadata": {},
      "source": [
        "# Conversão de Pinturas, de *Claude Monet*, em imagens realitas como fotografias"
      ]
    },
    {
      "cell_type": "code",
      "execution_count": null,
      "metadata": {
        "id": "qadJoXUq4vG3"
      },
      "outputs": [],
      "source": [
        "!pip install git+https://github.com/tensorflow/examples.git\n",
        "!pip install tensorflow-addons\n",
        "\n",
        "import tensorflow as tf\n",
        "import tensorflow_addons as tfa\n",
        "import tensorflow_datasets as tfds\n",
        "from tensorflow_examples.models.pix2pix import pix2pix\n",
        "\n",
        "import os\n",
        "import time\n",
        "import matplotlib.pyplot as plt\n",
        "from IPython.display import clear_output"
      ]
    },
    {
      "attachments": {},
      "cell_type": "markdown",
      "metadata": {
        "id": "Ir1zSDxOSsRP"
      },
      "source": [
        "## Default Values"
      ]
    },
    {
      "cell_type": "code",
      "execution_count": null,
      "metadata": {
        "id": "1JIJ5tuYSMdi"
      },
      "outputs": [],
      "source": [
        "BUFFER_SIZE = 1000\n",
        "BATCH_SIZE = 16\n",
        "IMG_WIDTH = 256\n",
        "IMG_HEIGHT = 256\n",
        "OUTPUT_CHANNELS = 3\n",
        "LAMBDA = 10\n",
        "EPOCHS = 60\n",
        "\n",
        "DATASET = 'cycle_gan/monet2photo'\n",
        "CHECKPOINTS = '/content/Checkpoint'\n",
        "\n",
        "AUTOTUNE = tf.data.AUTOTUNE"
      ]
    },
    {
      "attachments": {},
      "cell_type": "markdown",
      "metadata": {
        "id": "-4BrYiTISlu9"
      },
      "source": [
        "## Load Data\n"
      ]
    },
    {
      "cell_type": "code",
      "execution_count": null,
      "metadata": {
        "id": "WFjpn-_89Oa4"
      },
      "outputs": [],
      "source": [
        "dataset, metadata = tfds.load(DATASET, with_info=True, as_supervised=True)\n",
        "\n",
        "train_monet, train_photo = dataset['trainA'], dataset['trainB']\n",
        "test_monet, test_photo = dataset['testA'], dataset['testB']"
      ]
    },
    {
      "cell_type": "code",
      "execution_count": null,
      "metadata": {
        "id": "4UhoyMTgnvcw"
      },
      "outputs": [],
      "source": [
        "def random_crop(image):\n",
        "  cropped_image = tf.image.random_crop(\n",
        "                  image, size=[IMG_HEIGHT, IMG_WIDTH, 3])\n",
        "  return cropped_image\n",
        "\n",
        "def normalize(image):\n",
        "  image = tf.cast(image, tf.float32)\n",
        "  image = (image / 127.5) - 1\n",
        "  return image\n",
        "\n",
        "def jitter(image):\n",
        "  image = random_crop(image)\n",
        "\n",
        "  image = tf.image.random_flip_left_right(image)\n",
        "  return image\n",
        "\n",
        "def preprocess_train(image, label):\n",
        "  image = jitter(image)\n",
        "  image = normalize(image)\n",
        "  return image\n",
        "\n",
        "def preprocess_test(image, label):\n",
        "  image = normalize(image)\n",
        "  return image"
      ]
    },
    {
      "attachments": {},
      "cell_type": "markdown",
      "metadata": {
        "id": "QvjRZLisTu9W"
      },
      "source": [
        "## Process Data"
      ]
    },
    {
      "cell_type": "code",
      "execution_count": null,
      "metadata": {
        "id": "0NrNRLaHTuL0"
      },
      "outputs": [],
      "source": [
        "train_monet = train_monet.cache().map(\n",
        "    preprocess_train, num_parallel_calls=AUTOTUNE).shuffle(\n",
        "    BUFFER_SIZE).batch(BATCH_SIZE)\n",
        "\n",
        "train_photo = train_photo.cache().map(\n",
        "    preprocess_train, num_parallel_calls=AUTOTUNE).shuffle(\n",
        "    BUFFER_SIZE).batch(BATCH_SIZE)\n",
        "\n",
        "test_monet = test_monet.map(\n",
        "    preprocess_test, num_parallel_calls=AUTOTUNE).cache().shuffle(\n",
        "    BUFFER_SIZE).batch(BATCH_SIZE)\n",
        "\n",
        "test_photo = test_photo.map(\n",
        "    preprocess_test, num_parallel_calls=AUTOTUNE).cache().shuffle(\n",
        "    BUFFER_SIZE).batch(BATCH_SIZE)"
      ]
    },
    {
      "cell_type": "code",
      "execution_count": null,
      "metadata": {
        "id": "zVVMLzX1anGj"
      },
      "outputs": [],
      "source": [
        "sample_monet = next(iter(train_monet))\n",
        "sample_photo = next(iter(train_photo))"
      ]
    },
    {
      "attachments": {},
      "cell_type": "markdown",
      "metadata": {
        "id": "mLJdlDWQa9dk"
      },
      "source": [
        "## Show images"
      ]
    },
    {
      "cell_type": "code",
      "execution_count": null,
      "metadata": {
        "id": "o3CW4owFYhyi"
      },
      "outputs": [],
      "source": [
        "plt.subplot(121)\n",
        "plt.title('Train_monet')\n",
        "plt.imshow(sample_monet[0] * 0.5 + 0.5)\n",
        "\n",
        "plt.subplot(122)\n",
        "plt.title('Train_monet with random jitter')\n",
        "plt.imshow(jitter(sample_monet[0]) * 0.5 + 0.5)"
      ]
    },
    {
      "cell_type": "code",
      "execution_count": null,
      "metadata": {
        "id": "CtJ4DnP4Y4lN"
      },
      "outputs": [],
      "source": [
        "plt.subplot(121)\n",
        "plt.title('Train_photo')\n",
        "plt.imshow(sample_photo[0] * 0.5 + 0.5)\n",
        "\n",
        "plt.subplot(122)\n",
        "plt.title('Train_photo with random jitter')\n",
        "plt.imshow(jitter(sample_photo[0]) * 0.5 + 0.5)"
      ]
    },
    {
      "attachments": {},
      "cell_type": "markdown",
      "metadata": {
        "id": "Osugq2zvt927"
      },
      "source": [
        "## Descriminator and Generator"
      ]
    },
    {
      "cell_type": "code",
      "execution_count": null,
      "metadata": {
        "id": "4TRxxAaxq_k6"
      },
      "outputs": [],
      "source": [
        "generator_g = pix2pix.unet_generator(OUTPUT_CHANNELS, norm_type='instancenorm')\n",
        "generator_f = pix2pix.unet_generator(OUTPUT_CHANNELS, norm_type='instancenorm')\n",
        "\n",
        "discriminator_x = pix2pix.discriminator(norm_type='instancenorm', target=False)\n",
        "discriminator_y = pix2pix.discriminator(norm_type='instancenorm', target=False)"
      ]
    },
    {
      "attachments": {},
      "cell_type": "markdown",
      "metadata": {
        "id": "Lz2iHxmUt3x-"
      },
      "source": [
        "## Untrained image generation"
      ]
    },
    {
      "cell_type": "code",
      "execution_count": null,
      "metadata": {
        "id": "yhBzmS3mr3BQ"
      },
      "outputs": [],
      "source": [
        "to_photo = generator_g(sample_monet)\n",
        "to_monet = generator_f(sample_photo)\n",
        "\n",
        "plt.figure(figsize=(8,8))\n",
        "contrast = 8\n",
        "\n",
        "imgs = [sample_monet, to_photo, sample_photo, to_monet]\n",
        "title = ['Monet', 'To Photo', 'Photo', 'To Monet']\n",
        "\n",
        "for i in range(len(imgs)):\n",
        "  plt.subplot(2, 2, i+1)\n",
        "  plt.title(title[i])\n",
        "  if i % 2 == 0:\n",
        "    plt.imshow(imgs[i][0] * 0.5 + 0.5)\n",
        "  else:\n",
        "    plt.imshow(imgs[i][0] * 0.5 * contrast + 0.5)\n",
        "plt.show()"
      ]
    },
    {
      "cell_type": "code",
      "execution_count": null,
      "metadata": {
        "id": "elpX2uYZs_Pf"
      },
      "outputs": [],
      "source": [
        "plt.figure(figsize=(8,8))\n",
        "\n",
        "plt.subplot(121)\n",
        "plt.title('Is it a real photo?')\n",
        "plt.imshow(discriminator_y(sample_photo)[0, ..., -1], cmap='inferno')\n",
        "\n",
        "plt.subplot(122)\n",
        "plt.title('Is it a real monet painting?')\n",
        "plt.imshow(discriminator_x(sample_monet)[0, ..., -1], cmap='inferno')\n",
        "\n",
        "plt.show()\n"
      ]
    },
    {
      "attachments": {},
      "cell_type": "markdown",
      "metadata": {
        "id": "6h9iLsPOq8Df"
      },
      "source": [
        "## Loss functions"
      ]
    },
    {
      "cell_type": "code",
      "execution_count": null,
      "metadata": {
        "id": "UWqUD2ktq-_n"
      },
      "outputs": [],
      "source": [
        "loss_obj = tf.keras.losses.BinaryCrossentropy(from_logits=True)"
      ]
    },
    {
      "cell_type": "code",
      "execution_count": null,
      "metadata": {
        "id": "M9HcWoyr1JDR"
      },
      "outputs": [],
      "source": [
        "def discriminator_loss(real, generated):\n",
        "  real_loss = loss_obj(tf.ones_like(real), real)\n",
        "\n",
        "  generated_loss = loss_obj(tf.zeros_like(generated), generated)\n",
        "\n",
        "  total_disc_loss = real_loss + generated_loss\n",
        "\n",
        "  return total_disc_loss * 0.5\n",
        "\n",
        "def generator_loss(generated):\n",
        "  return loss_obj(tf.ones_like(generated), generated)"
      ]
    },
    {
      "cell_type": "code",
      "execution_count": null,
      "metadata": {
        "id": "EyNGQeMFrvRR"
      },
      "outputs": [],
      "source": [
        "def calc_cycle_loss(real_img, cycled_img):\n",
        "\n",
        "  loss = tf.reduce_mean(tf.abs(real_img - cycled_img))\n",
        "\n",
        "  return LAMBDA * loss"
      ]
    },
    {
      "cell_type": "code",
      "execution_count": null,
      "metadata": {
        "id": "F0hmsFtSsVzI"
      },
      "outputs": [],
      "source": [
        "def identity_loss(real_img, same_img):\n",
        "\n",
        "  loss = tf.reduce_mean(tf.abs(real_img - same_img))\n",
        "\n",
        "  return LAMBDA * 0.5 * loss"
      ]
    },
    {
      "cell_type": "code",
      "execution_count": null,
      "metadata": {
        "id": "aCOZ4Lwishs-"
      },
      "outputs": [],
      "source": [
        "generator_g_optimizer = tf.keras.optimizers.Adam(2e-4, beta_1=0.5)\n",
        "generator_f_optimizer = tf.keras.optimizers.Adam(2e-4, beta_1=0.5)\n",
        "\n",
        "discriminator_x_optimizer = tf.keras.optimizers.Adam(2e-4, beta_1=0.5)\n",
        "discriminator_y_optimizer = tf.keras.optimizers.Adam(2e-4, beta_1=0.5)"
      ]
    },
    {
      "attachments": {},
      "cell_type": "markdown",
      "metadata": {
        "id": "QhHGVo-Esr_n"
      },
      "source": [
        "## Checkpoints"
      ]
    },
    {
      "cell_type": "code",
      "execution_count": null,
      "metadata": {
        "id": "2Z0TKSlTsrJF"
      },
      "outputs": [],
      "source": [
        "checkpoint_path = CHECKPOINTS\n",
        "\n",
        "ckpt = tf.train.Checkpoint(generator_g=generator_g,\n",
        "                           generator_f=generator_f,\n",
        "                           discriminator_x=discriminator_x,\n",
        "                           discriminator_y=discriminator_y,\n",
        "                           generator_g_optimizer=generator_g_optimizer,\n",
        "                           generator_f_optimizer=generator_f_optimizer,\n",
        "                           discriminator_x_optimizer=discriminator_x_optimizer,\n",
        "                           discriminator_y_optimizer=discriminator_y_optimizer)\n",
        "\n",
        "ckpt_manager = tf.train.CheckpointManager(ckpt, checkpoint_path, max_to_keep=5)\n",
        "\n",
        "if ckpt_manager.latest_checkpoint:\n",
        "  ckpt.restore(ckpt_manager.latest_checkpoint)\n",
        "  print ('Latest checkpoint restored!!')\n"
      ]
    },
    {
      "attachments": {},
      "cell_type": "markdown",
      "metadata": {
        "id": "eTIJLIfRszB1"
      },
      "source": [
        "## Training"
      ]
    },
    {
      "attachments": {},
      "cell_type": "markdown",
      "metadata": {
        "id": "WnnoUpXqz-ko"
      },
      "source": [
        "### Train steps"
      ]
    },
    {
      "cell_type": "code",
      "execution_count": null,
      "metadata": {
        "id": "OHg6XAhfz9YP"
      },
      "outputs": [],
      "source": [
        "@tf.function\n",
        "def get_predictions(real_x, real_y):\n",
        "\n",
        "  with tf.GradientTape(persistent=True) as tape:\n",
        "\n",
        "    fake_y = generator_g(real_x, training=True)\n",
        "    cycled_x = generator_f(fake_y, training=True)\n",
        "\n",
        "    fake_x = generator_f(real_y, training=True)\n",
        "    cycled_y = generator_g(fake_x, training=True)\n",
        "\n",
        "    same_x = generator_f(real_x, training=True)\n",
        "    same_y = generator_g(real_y, training=True)\n",
        "\n",
        "    disc_real_x = discriminator_x(real_x, training=True)\n",
        "    disc_real_y = discriminator_y(real_y, training=True)\n",
        "\n",
        "    disc_fake_x = discriminator_x(fake_x, training=True)\n",
        "    disc_fake_y = discriminator_y(fake_y, training=True)\n",
        "\n",
        "@tf.function\n",
        "def get_loss(disc_fake_x, disc_fake_y, real_x, real_y, cycled_x, cycled_y, same_x, same_y):\n",
        "\n",
        "    gen_g_loss = generator_loss(disc_fake_y)\n",
        "    gen_f_loss = generator_loss(disc_fake_x)\n",
        "\n",
        "    total_cycle_loss = calc_cycle_loss(real_x, cycled_x) + calc_cycle_loss(real_y, cycled_y)\n",
        "\n",
        "    total_gen_g_loss = gen_g_loss + total_cycle_loss + identity_loss(real_y, same_y)\n",
        "    total_gen_f_loss = gen_f_loss + total_cycle_loss + identity_loss(real_x, same_x)\n",
        "\n",
        "    disc_x_loss = discriminator_loss(disc_real_x, disc_fake_x)\n",
        "    disc_y_loss = discriminator_loss(disc_real_y, disc_fake_y)\n",
        "\n",
        "    disc_real_x = discriminator_x(real_x, training=True)\n",
        "    disc_real_y = discriminator_y(real_y, training=True)\n",
        "\n",
        "    disc_fake_x = discriminator_x(fake_x, training=True)\n",
        "    disc_fake_y = discriminator_y(fake_y, training=True)\n",
        "\n",
        "@tf.function\n",
        "def get_gradients(total_gen_g_loss, generator_g, total_gen_f_loss, generator_f, disc_x_loss, discriminator_x, disc_y_loss, discriminator_y):\n",
        "\n",
        "  generator_g_gradients = tape.gradient(total_gen_g_loss,\n",
        "                                        generator_g.trainable_variables)\n",
        "  generator_f_gradients = tape.gradient(total_gen_f_loss,\n",
        "                                        generator_f.trainable_variables)\n",
        "\n",
        "  discriminator_x_gradients = tape.gradient(disc_x_loss,\n",
        "                                            discriminator_x.trainable_variables)\n",
        "  discriminator_y_gradients = tape.gradient(disc_y_loss,\n",
        "                                            discriminator_y.trainable_variables)\n",
        "\n",
        "  disc_fake_x = discriminator_x(fake_x, training=True)\n",
        "  disc_fake_y = discriminator_y(fake_y, training=True)\n",
        "\n",
        "@tf.function\n",
        "def grad_optimizer(generator_g_gradients, generator_f_gradients, generator_g, generator_f, discriminator_x_gradients, discriminator_x, discriminator_y_gradients, discriminator_y):\n",
        "\n",
        "  generator_g_optimizer.apply_gradients(zip(generator_g_gradients,\n",
        "                                            generator_g.trainable_variables))\n",
        "\n",
        "  generator_f_optimizer.apply_gradients(zip(generator_f_gradients,\n",
        "                                            generator_f.trainable_variables))\n",
        "\n",
        "  discriminator_x_optimizer.apply_gradients(zip(discriminator_x_gradients,\n",
        "                                                discriminator_x.trainable_variables))\n",
        "\n",
        "  discriminator_y_optimizer.apply_gradients(zip(discriminator_y_gradients,\n",
        "                                                discriminator_y.trainable_variables))"
      ]
    },
    {
      "cell_type": "code",
      "execution_count": null,
      "metadata": {
        "id": "cqAIqWqEs2vq"
      },
      "outputs": [],
      "source": [
        "def generate_images(model, test_input):\n",
        "  prediction = model(test_input)\n",
        "\n",
        "  plt.figure(figsize=(12, 12))\n",
        "\n",
        "  display_list = [test_input[0], prediction[0]]\n",
        "  title = ['Input Image', 'Predicted Image']\n",
        "\n",
        "  for i in range(2):\n",
        "    plt.subplot(1, 2, i+1)\n",
        "    plt.title(title[i])\n",
        "    plt.imshow(display_list[i] * 0.5 + 0.5)\n",
        "    plt.axis('off')\n",
        "  plt.show()"
      ]
    },
    {
      "cell_type": "code",
      "execution_count": null,
      "metadata": {
        "id": "giYXzTFLs7R6"
      },
      "outputs": [],
      "source": [
        "@tf.function\n",
        "def train_loop(real_x, real_y):\n",
        "\n",
        "  with tf.GradientTape(persistent=True) as tape:\n",
        "\n",
        "    fake_y = generator_g(real_x, training=True)\n",
        "    cycled_x = generator_f(fake_y, training=True)\n",
        "\n",
        "    fake_x = generator_f(real_y, training=True)\n",
        "    cycled_y = generator_g(fake_x, training=True)\n",
        "\n",
        "    same_x = generator_f(real_x, training=True)\n",
        "    same_y = generator_g(real_y, training=True)\n",
        "\n",
        "    disc_real_x = discriminator_x(real_x, training=True)\n",
        "    disc_real_y = discriminator_y(real_y, training=True)\n",
        "\n",
        "    disc_fake_x = discriminator_x(fake_x, training=True)\n",
        "    disc_fake_y = discriminator_y(fake_y, training=True)\n",
        "\n",
        "    gen_g_loss = generator_loss(disc_fake_y)\n",
        "    gen_f_loss = generator_loss(disc_fake_x)\n",
        "\n",
        "    total_cycle_loss = calc_cycle_loss(real_x, cycled_x) + calc_cycle_loss(real_y, cycled_y)\n",
        "\n",
        "    total_gen_g_loss = gen_g_loss + total_cycle_loss + identity_loss(real_y, same_y)\n",
        "    total_gen_f_loss = gen_f_loss + total_cycle_loss + identity_loss(real_x, same_x)\n",
        "\n",
        "    disc_x_loss = discriminator_loss(disc_real_x, disc_fake_x)\n",
        "    disc_y_loss = discriminator_loss(disc_real_y, disc_fake_y)\n",
        "\n",
        "\n",
        "  generator_g_gradients = tape.gradient(total_gen_g_loss,\n",
        "                                        generator_g.trainable_variables)\n",
        "  generator_f_gradients = tape.gradient(total_gen_f_loss,\n",
        "                                        generator_f.trainable_variables)\n",
        "\n",
        "  discriminator_x_gradients = tape.gradient(disc_x_loss,\n",
        "                                            discriminator_x.trainable_variables)\n",
        "  discriminator_y_gradients = tape.gradient(disc_y_loss,\n",
        "                                            discriminator_y.trainable_variables)\n",
        "\n",
        "  generator_g_optimizer.apply_gradients(zip(generator_g_gradients,\n",
        "                                            generator_g.trainable_variables))\n",
        "\n",
        "  generator_f_optimizer.apply_gradients(zip(generator_f_gradients,\n",
        "                                            generator_f.trainable_variables))\n",
        "\n",
        "  discriminator_x_optimizer.apply_gradients(zip(discriminator_x_gradients,\n",
        "                                                discriminator_x.trainable_variables))\n",
        "\n",
        "  discriminator_y_optimizer.apply_gradients(zip(discriminator_y_gradients,\n",
        "                                                discriminator_y.trainable_variables))\n"
      ]
    },
    {
      "cell_type": "code",
      "execution_count": null,
      "metadata": {
        "id": "q0fLs2oBtFkV"
      },
      "outputs": [],
      "source": [
        "for epoch in range(EPOCHS):\n",
        "  start = time.time()\n",
        "\n",
        "  n = 0\n",
        "  for image_x, image_y in tf.data.Dataset.zip((train_monet, train_photo)):\n",
        "    train_loop(image_x, image_y)\n",
        "    if n % 10 == 0:\n",
        "      print ('.', end='')\n",
        "    n += 1\n",
        "\n",
        "  clear_output(wait=True)\n",
        "\n",
        "  generate_images(generator_g, sample_monet)\n",
        "\n",
        "  if (epoch + 1) % 10 == 0:\n",
        "    ckpt_save_path = ckpt_manager.save()\n",
        "    print ('Saving checkpoint')\n",
        "\n"
      ]
    },
    {
      "attachments": {},
      "cell_type": "markdown",
      "metadata": {
        "id": "r8utyDf2zELR"
      },
      "source": [
        "## Generate using test set"
      ]
    },
    {
      "cell_type": "code",
      "execution_count": null,
      "metadata": {
        "id": "ucg_bIVpzCDT"
      },
      "outputs": [],
      "source": [
        "for x in test_monet.take(10):\n",
        "  generate_images(generator_g, x)"
      ]
    }
  ],
  "metadata": {
    "accelerator": "TPU",
    "colab": {
      "authorship_tag": "ABX9TyMVir/AuHmD2J1FGeTmr9xt",
      "gpuType": "T4",
      "include_colab_link": true,
      "provenance": []
    },
    "kernelspec": {
      "display_name": "Python 3",
      "name": "python3"
    },
    "language_info": {
      "name": "python"
    }
  },
  "nbformat": 4,
  "nbformat_minor": 0
}
